{
 "nbformat": 4,
 "nbformat_minor": 2,
 "metadata": {
  "language_info": {
   "name": "python",
   "codemirror_mode": {
    "name": "ipython",
    "version": 3
   }
  },
  "orig_nbformat": 2,
  "file_extension": ".py",
  "mimetype": "text/x-python",
  "name": "python",
  "npconvert_exporter": "python",
  "pygments_lexer": "ipython3",
  "version": 3
 },
 "cells": [
  {
   "cell_type": "markdown",
   "metadata": {},
   "source": [
    "- CLI\n",
    "- unit test => mock sources\n",
    "- need context => use class"
   ]
  },
  {
   "cell_type": "markdown",
   "metadata": {},
   "source": [
    "- this tutorial\n",
    "- dir() and help()\n",
    "- run the examples in the examples/ folder in pyngsi\n",
    "- read NGSI agents already developed for PIXEL\n",
    "- read unit tests\n",
    "- read the code\n",
    "- readthedocs : TODO"
   ]
  }
 ]
}