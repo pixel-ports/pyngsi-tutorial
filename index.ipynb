{
 "nbformat": 4,
 "nbformat_minor": 2,
 "metadata": {
  "language_info": {
   "name": "python",
   "codemirror_mode": {
    "name": "ipython",
    "version": 3
   }
  },
  "orig_nbformat": 2,
  "file_extension": ".py",
  "mimetype": "text/x-python",
  "name": "python",
  "npconvert_exporter": "python",
  "pygments_lexer": "ipython3",
  "version": 3
 },
 "cells": [
  {
   "cell_type": "markdown",
   "metadata": {},
   "source": [
    "# What is pyngsi ?"
   ]
  },
  {
   "cell_type": "markdown",
   "metadata": {},
   "source": [
    "[pyngsi](https://github.com/pixel-ports/pyngsi) is a Python framework that allows to write a data-acquisition pipeline for [Fiware](https://www.fiware.org)."
   ]
  },
  {
   "cell_type": "markdown",
   "metadata": {},
   "source": [
    "Depending on the datasource, data may be collected in very different ways.<p>\n",
    "For example :\n",
    "- IoT sensors\n",
    "- request an API (exposed by the datasource)\n",
    "- expose an API (and being requested by the datasource)\n",
    "- files (plain text, json, compressed, ...)\n",
    "- protocols (FTP, UDP, ...)\n",
    "- ...\n"
   ]
  },
  {
   "cell_type": "markdown",
   "metadata": {},
   "source": [
    "The framework enables developers to build custom [NGSI](https://fiware.github.io/specifications/ngsiv2/stable/) Agents that :\n",
    "- process data using a common interface regardless of the type of the datasource\n",
    "- convert custom data to NGSI entities based on Fiware datamodels \n",
    "- write NGSI entities to the [Orion](https://fiware-orion.readthedocs.io/en/master/) Context Broker"
   ]
  },
  {
   "cell_type": "markdown",
   "metadata": {},
   "source": [
    "It's up to you to use the whole framework or pick up some parts.<br>\n",
    "For example it's possible to build NGSI entities with the framework and deal with Orion on your own."
   ]
  },
  {
   "cell_type": "markdown",
   "metadata": {},
   "source": [
    "In this tutorial we are going to explore the main features of *pyngsi* :\n",
    "- [Chapter 1](chapter1_datamodel.ipynb) : How to use the DataModel class to build NGSI entities for your custom data\n",
    "- [Chapter 2](chapter2_orion.ipynb) : How to use the SinkOrion class to write to the Orion Context Broker\n",
    "- [Chapter 3](chapter3_agent.ipynb) : Write your first Agent\n",
    "- Chapter 4 : How to process datasources\n",
    "- Chapter 5 : How to use Source classes to expose any kind of datasources through a common interface\n",
    "- Chapter 6 : How to use the Agent class to link all parts and get the most of the framework\n",
    "- [Chapter 7](chapter5_advanced.ipynb) : Advanced usage (debugging, troubleshooting, extending the framework)\n",
    "- [Appendix](appendix.ipynb)"
   ]
  }
 ]
}