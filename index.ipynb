{
 "cells": [
  {
   "cell_type": "markdown",
   "metadata": {},
   "source": [
    "# Chapter 1 : build NGSI models"
   ]
  },
  {
   "cell_type": "markdown",
   "metadata": {},
   "source": [
    "Let's assume you have collected incoming data.<br>\n",
    "For the sake of this tutorial, let's say data are collected from temperature/pression sensors located in some rooms.<br>\n",
    "At some point these data are stored in memory and handled as Python variables or objects.<br>\n",
    "Now you are ready to translate your data to NGSI-compliant entities in order to further write them to Orion, hence completing the Fiware-based data acquisition pipeline.<br>\n",
    "Please use existing Fiware datamodels or extend them.<br>\n",
    "If any of them fit your needs then consider creating your own datamodel and submit it to the Fiware community for normalization."
   ]
  },
  {
   "cell_type": "code",
   "execution_count": 37,
   "metadata": {},
   "outputs": [
    {
     "name": "stdout",
     "output_type": "stream",
     "text": [
      "3.8.2 (default, Feb 26 2020, 02:56:10) \n",
      "[GCC 7.4.0]\n"
     ]
    }
   ],
   "source": [
    "import sys\n",
    "\n",
    "# Python 3.8+ is required\n",
    "print(sys.version)\n",
    "assert (sys.version.startswith(\"3.8.\"))"
   ]
  },
  {
   "cell_type": "code",
   "execution_count": 38,
   "metadata": {},
   "outputs": [],
   "source": [
    "# import the DataModel class\n",
    "from pyngsi.ngsi import DataModel"
   ]
  },
  {
   "cell_type": "code",
   "execution_count": 39,
   "metadata": {},
   "outputs": [],
   "source": [
    "# create a DataModel instance with its mandatory id and type properties\n",
    "m = DataModel(id=\"Room1\", type=\"Room\")\n",
    "\n",
    "# add the temperature attribute as a float\n",
    "m.add(\"temperature\", 23.0)\n",
    "\n",
    "# add the pressure attribute as an integer\n",
    "m.add(\"pressure\", 720)"
   ]
  },
  {
   "cell_type": "code",
   "execution_count": 33,
   "metadata": {},
   "outputs": [
    {
     "name": "stdout",
     "output_type": "stream",
     "text": [
      "{'id': 'Room1', 'type': 'Room', 'temperature': {'value': 23.0, 'type': 'Float'}, 'pressure': {'value': 720, 'type': 'Integer'}}\n"
     ]
    }
   ],
   "source": [
    "# print your model\n",
    "print(m)"
   ]
  },
  {
   "cell_type": "code",
   "execution_count": 40,
   "metadata": {},
   "outputs": [
    {
     "name": "stdout",
     "output_type": "stream",
     "text": [
      "{\n",
      "  \"id\": \"Room1\",\n",
      "  \"type\": \"Room\",\n",
      "  \"temperature\": {\n",
      "    \"value\": 23.0,\n",
      "    \"type\": \"Float\"\n",
      "  },\n",
      "  \"pressure\": {\n",
      "    \"value\": 720,\n",
      "    \"type\": \"Integer\"\n",
      "  }\n",
      "}\n"
     ]
    }
   ],
   "source": [
    "# use the pprint() method for better readability\n",
    "m.pprint()"
   ]
  }
 ],
 "metadata": {
  "kernelspec": {
   "display_name": "Python 3",
   "language": "python",
   "name": "python3"
  },
  "language_info": {
   "codemirror_mode": {
    "name": "ipython",
    "version": 3
   },
   "file_extension": ".py",
   "mimetype": "text/x-python",
   "name": "python",
   "nbconvert_exporter": "python",
   "pygments_lexer": "ipython3",
   "version": "3.8.2"
  }
 },
 "nbformat": 4,
 "nbformat_minor": 4
}
