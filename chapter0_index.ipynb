{
 "cells": [
  {
   "cell_type": "markdown",
   "metadata": {},
   "source": [
    "# What is pyngsi ?"
   ]
  },
  {
   "cell_type": "markdown",
   "metadata": {},
   "source": [
    "[pyngsi](https://github.com/pixel-ports/pyngsi) is a Python framework that allows to write a data-acquisition pipeline for [Fiware](https://www.fiware.org).\n",
    "\n",
    "Documentation for old 1.x versions can be found [here](https://pixel-ports.github.io/pyngsi-tutorial-1.2.html)"
   ]
  },
  {
   "cell_type": "markdown",
   "metadata": {},
   "source": [
    "## Introduction\n",
    "\n",
    "Datasources are versatile exposing various data in various ways using different protocols.<p>\n",
    "\n",
    "A few examples showing how datasources can be exposed :\n",
    "\n",
    "- IoT sensors : WiFi IP-based or using lightweight protocols such as Bluetooth, Zigbee, Lora, 5G, ...\n",
    "\n",
    "- HTTP REST API :\n",
    "    - exposed on the datasource side : the agent requests the API to retrieve data (client mode)\n",
    "    - exposed on the agent side : data are posted from the datasource to the agent (server mode)\n",
    "\n",
    "- files :\n",
    "    - plain text, json, xml, maybe compressed (gz, tgz, zip, ...)\n",
    "    - carried over HTTP, FTP, ..."
   ]
  },
  {
   "cell_type": "markdown",
   "metadata": {},
   "source": [
    "The framework enables developers to build custom [NGSI](https://fiware.github.io/specifications/ngsiv2/stable/) Agents that :\n",
    "- process data using a common interface regardless of the type of the datasource\n",
    "- convert custom data to NGSI entities based on Fiware datamodels \n",
    "- write NGSI entities to the [Orion](https://fiware-orion.readthedocs.io/en/master/) Context Broker"
   ]
  },
  {
   "cell_type": "markdown",
   "metadata": {},
   "source": [
    "It's up to you to use the whole framework or pick up some parts.<br>\n",
    "For example it's possible to build NGSI entities with the framework and deal with Orion on your own."
   ]
  },
  {
   "cell_type": "markdown",
   "metadata": {},
   "source": [
    "Using the pyngsi framework provides several benefits :\n",
    "\n",
    "- **developers can focus on the data logic**\n",
    "\n",
    "- clean code structure separates custom logic from boilerplate\n",
    "\n",
    "- streaming-oriented : *stream incoming data vs store the whole dataset in memory*\n",
    "\n",
    "- well unit-tested\n",
    "\n",
    "- all agents have the same structure : *client and server modes*\n",
    "\n",
    "- get processing statistics\n",
    "\n",
    "- get agent status : *when possible i.e. server agent, long-live agent*\n",
    "\n",
    "- benefit from the Python ecosystem especially the availability of many scientific libraries"
   ]
  },
  {
   "cell_type": "markdown",
   "metadata": {},
   "source": [
    "In this tutorial we are going to explore the main features of *pyngsi* :\n",
    "- __Chapter 1__ : How to use the DataModel class to build NGSI entities for your custom data\n",
    "- __Chapter 2__ : How to use the SinkOrion class to write to the Orion Context Broker\n",
    "- __Chapter 3__ : Write your first Agent\n",
    "- __Chapter 4__ : More on datasources\n",
    "- __Chapter 5__ : How to schedule the execution of an agent\n",
    "- __Chapter 6__ : How to debug, display, troubleshoot\n",
    "- __Chapter 7__ : Tips for real use-case agents\n",
    "- __Chapter 8__ : How to extend the framework\n",
    "- __Appendix__ : How to run a local Docker-based Orion instance"
   ]
  },
  {
   "cell_type": "markdown",
   "metadata": {},
   "source": [
    "## Pre-requisite\n",
    "### Python 3.8+\n",
    "\n",
    "As of July 2020 the latest Python stable release is v3.8.5.<br>\n",
    "It is available on all platforms.<br>\n",
    "Depending on your OS iy may be already installed.<br>\n",
    "If not you'll have to install it.\n",
    "\n",
    "You can check the version either from the terminal :\n",
    "```bash\n",
    "$ python --version\n",
    "Python 3.8.5\n",
    "```\n",
    "\n",
    "or in Python code :\n",
    "\n",
    "```python\n",
    "import sys\n",
    "\n",
    "print(sys.version)                                                                                                           \n",
    "3.8.5 (default, Jul 20 2020, 19:48:14) \n",
    "[GCC 7.5.0]\n",
    "```"
   ]
  },
  {
   "cell_type": "markdown",
   "metadata": {},
   "source": [
    "## Check your pyngsi version"
   ]
  },
  {
   "cell_type": "code",
   "execution_count": null,
   "metadata": {
    "tags": []
   },
   "outputs": [],
   "source": [
    "import pyngsi\n",
    "\n",
    "print(pyngsi.__version__)\n",
    "\n"
   ]
  }
 ],
 "metadata": {
  "file_extension": ".py",
  "kernelspec": {
   "display_name": "Python 3",
   "language": "python",
   "name": "python3"
  },
  "language_info": {
   "codemirror_mode": {
    "name": "ipython",
    "version": 3
   },
   "file_extension": ".py",
   "mimetype": "text/x-python",
   "name": "python",
   "nbconvert_exporter": "python",
   "pygments_lexer": "ipython3",
   "version": "3.8.2"
  },
  "mimetype": "text/x-python",
  "name": "python",
  "npconvert_exporter": "python",
  "pygments_lexer": "ipython3",
  "version": 3
 },
 "nbformat": 4,
 "nbformat_minor": 2
}