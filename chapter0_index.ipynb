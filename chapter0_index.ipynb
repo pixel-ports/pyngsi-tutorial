{
 "nbformat": 4,
 "nbformat_minor": 2,
 "metadata": {
  "language_info": {
   "name": "python",
   "codemirror_mode": {
    "name": "ipython",
    "version": 3
   }
  },
  "orig_nbformat": 2,
  "file_extension": ".py",
  "mimetype": "text/x-python",
  "name": "python",
  "npconvert_exporter": "python",
  "pygments_lexer": "ipython3",
  "version": 3
 },
 "cells": [
  {
   "cell_type": "markdown",
   "metadata": {},
   "source": [
    "# What is pyngsi ?"
   ],
   "execution_count": null,
   "outputs": []
  },
  {
   "cell_type": "markdown",
   "metadata": {},
   "source": [
    "[pyngsi](https://github.com/pixel-ports/pyngsi) is a Python framework that allows to write a data-acquisition pipeline for [Fiware](https://www.fiware.org)."
   ],
   "execution_count": null,
   "outputs": []
  },
  {
   "cell_type": "markdown",
   "metadata": {},
   "source": [
    "Depending on the datasource, data may be collected in very different ways.<p>\n",
    "For example :\n",
    "- IoT sensors\n",
    "- request an API : *exposed by the datasource*\n",
    "- expose an API : *being requested by the datasource*\n",
    "- files : *plain text, json, compressed*\n",
    "- protocols : *HTTP, FTP, UDP*"
   ],
   "execution_count": null,
   "outputs": []
  },
  {
   "cell_type": "markdown",
   "metadata": {},
   "source": [
    "The framework enables developers to build custom [NGSI](https://fiware.github.io/specifications/ngsiv2/stable/) Agents that :\n",
    "- process data using a common interface regardless of the type of the datasource\n",
    "- convert custom data to NGSI entities based on Fiware datamodels \n",
    "- write NGSI entities to the [Orion](https://fiware-orion.readthedocs.io/en/master/) Context Broker"
   ],
   "execution_count": null,
   "outputs": []
  },
  {
   "cell_type": "markdown",
   "metadata": {},
   "source": [
    "It's up to you to use the whole framework or pick up some parts.<br>\n",
    "For example it's possible to build NGSI entities with the framework and deal with Orion on your own."
   ],
   "execution_count": null,
   "outputs": []
  },
  {
   "cell_type": "markdown",
   "metadata": {},
   "source": [
    "Using the pyngsi framework provides several benefits :\n",
    "\n",
    "- **developers can focus on the data logic**\n",
    "\n",
    "- clean code separates custom logic from boilerplate\n",
    "\n",
    "- streaming-oriented (stream incoming data vs store the whole dataset in memory)\n",
    "\n",
    "- well unit-tested\n",
    "\n",
    "- all agents have the same structure<br>\n",
    "*your agent acts as a REST server and exposes an API : the structure keeps the same*\n",
    "\n",
    "- get processing statistics\n",
    "\n",
    "- get agent status (when possible i.e. server agent, long-live agent)\n",
    "\n",
    "- benefit from the Python ecosystem especially the availability of many scientific libraries"
   ]
  },
  {
   "cell_type": "markdown",
   "metadata": {},
   "source": [
    "In this tutorial we are going to explore the main features of *pyngsi* :\n",
    "- [Chapter 1](chapter1_datamodel.ipynb) : How to use the DataModel class to build NGSI entities for your custom data\n",
    "- [Chapter 2](chapter2_orion.ipynb) : How to use the SinkOrion class to write to the Orion Context Broker\n",
    "- [Chapter 3](chapter3_agent.ipynb) : Write your first Agent\n",
    "- [Chapter 4](chapter4_datasources.ipynb) : More on datasources\n",
    "- [Chapter 5](chapter5_scheduler.ipynb) : How to schedule the execution of an agent\n",
    "- [Chapter 6](chapter6_debug.ipynb) : How to debug, display, troubleshoot\n",
    "- [Chapter 7](chapter7_full_size_agent.ipynb) : Tips for real use-case agents\n",
    "- [Chapter 8](chapter8_extend.ipynb) : How to extend the framework\n",
    "- [Appendix](chapter99_appendix.ipynb) : How to run a local Docker-based Orion instance"
   ],
   "execution_count": null,
   "outputs": []
  }
 ]
}