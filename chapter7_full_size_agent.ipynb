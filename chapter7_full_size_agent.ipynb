{
 "nbformat": 4,
 "nbformat_minor": 2,
 "metadata": {
  "language_info": {
   "name": "python",
   "codemirror_mode": {
    "name": "ipython",
    "version": 3
   },
   "version": "3.8.2-final"
  },
  "orig_nbformat": 2,
  "file_extension": ".py",
  "mimetype": "text/x-python",
  "name": "python",
  "npconvert_exporter": "python",
  "pygments_lexer": "ipython3",
  "version": 3,
  "kernelspec": {
   "name": "python38264bitvenvvenv7db06e096c5f4d539d63f0eb51eaa462",
   "display_name": "Python 3.8.2 64-bit ('venv': venv)"
  }
 },
 "cells": [
  {
   "cell_type": "markdown",
   "metadata": {},
   "source": [
    "# Chapter 7 : Tips to develop a full size NGSI Agent"
   ],
   "execution_count": null,
   "outputs": []
  },
  {
   "cell_type": "markdown",
   "metadata": {},
   "source": [
    "## Tips\n"
   ],
   "execution_count": null,
   "outputs": []
  },
  {
   "cell_type": "markdown",
   "metadata": {},
   "source": [
    "### Need context ?\n",
    "\n",
    "Sometimes while building your NGSI entity you'll find out that you need a context.<br>\n",
    "Meaning you cannot build your entity just from the incoming data.<br>\n",
    "A clean solution is to use a simple class."
   ],
   "execution_count": null,
   "outputs": []
  },
  {
   "cell_type": "markdown",
   "metadata": {},
   "source": [
    "#### Example\n",
    "\n",
    "In this basic example we want to populate the address in the NGSI entity.\n",
    "\n",
    "```python\n",
    "class DummyProcessor:\n",
    "\n",
    "    def __init__(self, adress: str):\n",
    "        self.address = address\n",
    "\n",
    "    def build_entity(self, row: Row) -> DataModel:\n",
    "        r = row.record\n",
    "        model = DataModel(id=\"dummy\", type=\"dummy\")\n",
    "        model.add(\"dataProvider\", row.provider, isurl=True)\n",
    "        model.add(\"address\", row.record.anyvalue) \n",
    "        model.add(\"address\", row.record.anyvalue) \n",
    "        return m\n",
    "```\n",
    "\n",
    "Then in the code of the Agent you can use the processor like this :\n",
    "\n",
    "```python\n",
    "processor = DummyProcessor(\"Port of Bassens\")\n",
    "agent = NgsiAgent.create_agent(source, sink, process=processor.build_entity)\n",
    "```       "
   ],
   "execution_count": null,
   "outputs": []
  },
  {
   "cell_type": "markdown",
   "metadata": {},
   "source": [
    "### Command Line Interface\n",
    "\n",
    "You'll probably need a CLI for you or your users to operate the NGSI Agent.<br>\n",
    "There are many options. I use [click](https://pypi.org/project/click/)."
   ],
   "execution_count": null,
   "outputs": []
  },
  {
   "cell_type": "markdown",
   "metadata": {},
   "source": [
    "### Logging\n",
    "\n",
    "If you want log you've got it !<br>\n",
    "I recommend using [loguru](https://pypi.org/project/loguru/) which is already used by *pyngsi*."
   ],
   "execution_count": null,
   "outputs": []
  },
  {
   "cell_type": "markdown",
   "metadata": {},
   "source": [
    "### Unit tests\n",
    "\n",
    "You'll probably want to have unit tests.<br>\n",
    "Thanks to *pyngsi* you can quickly create a SourceTest to mock your real Source."
   ],
   "execution_count": null,
   "outputs": []
  },
  {
   "cell_type": "markdown",
   "metadata": {},
   "source": [
    "## Get more info\n",
    "\n",
    "- this tutorial\n",
    "\n",
    "- *dir()* and *help()*\n",
    "\n",
    "- run the examples in the *examples/* folder of pyngsi\n",
    "\n",
    "- read NGSI agents already developed for PIXEL\n",
    "\n",
    "- read unit tests\n",
    "\n",
    "- read the code of *pyngsi* on github\n",
    "\n",
    "- readthedocs : TODO"
   ],
   "execution_count": null,
   "outputs": []
  }
 ]
}