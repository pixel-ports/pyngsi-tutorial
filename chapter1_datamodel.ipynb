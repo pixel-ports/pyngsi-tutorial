{
 "cells": [
  {
   "cell_type": "markdown",
   "metadata": {},
   "source": [
    "# Chapter 1 : Build NGSI datamodels"
   ]
  },
  {
   "cell_type": "markdown",
   "metadata": {},
   "source": [
    "Let's assume you have collected incoming data.<br>\n",
    "For the sake of this tutorial, let's say data are collected from temperature/pressure sensors located in many rooms.<br>\n",
    "At some point these data are stored in memory and handled as Python variables or objects.<br>\n",
    "Now you are ready to translate your data to [NGSI](https://fiware.github.io/specifications/ngsiv2/stable/)-compliant entities in order to further write them to [Orion](https://fiware-orion.readthedocs.io/en/master/), hence completing the [Fiware](https://www.fiware.org/)-based data acquisition pipeline.<br>\n",
    "Please use [existing Fiware datamodels](https://fiware-datamodels.readthedocs.io/en/latest/) or extend them.<br>\n",
    "If any of them fit your needs then consider creating your own datamodel and submit it to the Fiware community for harmonization."
   ]
  },
  {
   "cell_type": "markdown",
   "metadata": {},
   "source": [
    "## You very first DataModel"
   ]
  },
  {
   "cell_type": "markdown",
   "metadata": {},
   "source": [
    "This tutorial is based on the datamodel used in the [NGSI Walkthrough tutorial](https://fiware-orion.readthedocs.io/en/master/user/walkthrough_apiv2/index.html#entity-creationhttps://fiware-orion.readthedocs.io/en/master/user/walkthrough_apiv2/index.html#entity-creation)."
   ]
  },
  {
   "cell_type": "markdown",
   "metadata": {},
   "source": [
    "### Import the DataModel class"
   ]
  },
  {
   "cell_type": "code",
   "execution_count": null,
   "metadata": {},
   "outputs": [],
   "source": [
    "from pyngsi.ngsi import DataModel"
   ]
  },
  {
   "cell_type": "markdown",
   "metadata": {},
   "source": [
    "### Create a basic datamodel with two attributes"
   ]
  },
  {
   "cell_type": "code",
   "execution_count": null,
   "metadata": {},
   "outputs": [],
   "source": [
    "# create a DataModel instance with its mandatory id and type properties\n",
    "m = DataModel(id=\"Room1\", type=\"Room\")\n",
    "\n",
    "# add the pressure attribute as an integer\n",
    "m.add(\"pressure\", 720)\n",
    "\n",
    "# add the temperature attribute as a float\n",
    "# don't forget to suffix by dot zero\n",
    "# you could also use casting : (float)23\n",
    "m.add(\"temperature\", 23.0)"
   ]
  },
  {
   "cell_type": "markdown",
   "metadata": {},
   "source": [
    "### Display result"
   ]
  },
  {
   "cell_type": "code",
   "execution_count": null,
   "metadata": {},
   "outputs": [],
   "source": [
    "# print your model\n",
    "print(m)"
   ]
  },
  {
   "cell_type": "code",
   "execution_count": null,
   "metadata": {},
   "outputs": [],
   "source": [
    "# use the pprint() method for better readability\n",
    "m.pprint()"
   ]
  },
  {
   "cell_type": "code",
   "execution_count": null,
   "metadata": {},
   "outputs": [],
   "source": [
    "# you probably want to output this JSON format to Fiware Orion\n",
    "m.json()"
   ]
  },
  {
   "cell_type": "markdown",
   "metadata": {},
   "source": [
    "### Help"
   ]
  },
  {
   "cell_type": "code",
   "execution_count": null,
   "metadata": {},
   "outputs": [],
   "source": [
    "# dir() and help() functions are your friends\n",
    "help(DataModel.add)"
   ]
  },
  {
   "cell_type": "markdown",
   "metadata": {},
   "source": [
    "## Adding attributes"
   ]
  },
  {
   "cell_type": "markdown",
   "metadata": {},
   "source": [
    "### Type mapping"
   ]
  },
  {
   "cell_type": "markdown",
   "metadata": {},
   "source": [
    "Each NGSI type is mapped to a Python type.<br>\n",
    "\n",
    "| <div style=\"width: 15em\">NGSI type</div>       | Python type &nbsp;&nbsp;&nbsp; | Alt. Python type |\n",
    "| :--------------------------------------------- | :----------------------------- | :--------------------- |\n",
    "| Text                                           | str                            |                        |  \n",
    "| Integer                                        | int                            |                        |\n",
    "| Float                                          | float                          |                        |\n",
    "| Boolean                                        | boolean                        |                        |\n",
    "| DateTime                                       | datetime                       | str *(isdate=True)*    |\n",
    "| geo:json                                       | tuple                          | geojson.Point          |\n",
    "| URL                                            |                                | str *(isurl=True)*     |\n",
    "| STRING_URL_ENCODED                             |                                | str *(urlencode=True)* |\n",
    "| json array                                     |                                | Sequence               |\n",
    "\n"
   ]
  },
  {
   "cell_type": "markdown",
   "metadata": {},
   "source": [
    "### Datetime attribute"
   ]
  },
  {
   "cell_type": "code",
   "execution_count": null,
   "metadata": {},
   "outputs": [],
   "source": [
    "# create a dateObserved attribute\n",
    "from datetime import datetime\n",
    "\n",
    "now = datetime.now()\n",
    "m.add(\"dateObserved\", now)\n",
    "\n",
    "m.pprint()"
   ]
  },
  {
   "cell_type": "code",
   "execution_count": null,
   "metadata": {},
   "outputs": [],
   "source": [
    "# if you already have a datetime as a well-formatted string, you can use it directly\n",
    "m.add(\"dateObserved\", \"2020-02-27T04:52:53:000Z\", isdate=True)\n",
    "\n",
    "# note that adding an already existing attribute replaces the value\n",
    "m.pprint()"
   ]
  },
  {
   "cell_type": "markdown",
   "metadata": {},
   "source": [
    "### Location attribute"
   ]
  },
  {
   "cell_type": "code",
   "execution_count": null,
   "metadata": {},
   "outputs": [],
   "source": [
    "# create a location attribute for Bordeaux\n",
    "m.add(\"location\", (-0.57918, 44.837789))\n",
    "\n",
    "m.pprint()"
   ]
  },
  {
   "cell_type": "code",
   "execution_count": null,
   "metadata": {},
   "outputs": [],
   "source": [
    "# create a location attribute given a GeoJson Point\n",
    "from geojson import Point\n",
    "\n",
    "loc = Point((44.837789, -0.57918))\n",
    "m.add(\"location\", loc)\n",
    "\n",
    "m.pprint()"
   ]
  },
  {
   "cell_type": "markdown",
   "metadata": {},
   "source": [
    "### URL attribute"
   ]
  },
  {
   "cell_type": "code",
   "execution_count": null,
   "metadata": {},
   "outputs": [],
   "source": [
    "# create a dataProvider attribute\n",
    "m.add(\"dataProvider\", \"https://app.sencrop.com\", isurl=True)\n",
    "\n",
    "m.pprint()"
   ]
  },
  {
   "cell_type": "markdown",
   "metadata": {},
   "source": [
    "## Advanced usage"
   ]
  },
  {
   "cell_type": "markdown",
   "metadata": {},
   "source": [
    "### Adding raw data"
   ]
  },
  {
   "cell_type": "code",
   "execution_count": null,
   "metadata": {},
   "outputs": [],
   "source": [
    "# create an attribute containing raw data\n",
    "m.add(\"rawData\", \"Zm9yYmlkZGVuIGNoYXJhY3RlcnM=\", urlencode=True)\n",
    "\n",
    "# NGSIv2 forbidden characters : https://fiware-orion.readthedocs.io/en/1.14.0/user/forbidden_characters/index.html\n",
    "# note that the equal sign '=' is part of these characters\n",
    "# as '=' belongs to the base64 alphabet you MUST use urlencore=True when carrying base64 payloads\n",
    "\n",
    "m.pprint()"
   ]
  },
  {
   "cell_type": "markdown",
   "metadata": {},
   "source": [
    "### Adding a JSON Array"
   ]
  },
  {
   "cell_type": "code",
   "execution_count": null,
   "metadata": {},
   "outputs": [],
   "source": [
    "# create an attribute containing a basic json array\n",
    "# just provide a Python Sequence type, here a list\n",
    "m.add(\"additionalData\", [{\"key1\": \"value1\"}, {\"key2\": \"value2\"}])\n",
    "\n",
    "m.pprint()"
   ]
  },
  {
   "cell_type": "markdown",
   "metadata": {},
   "source": [
    "### Adding metadata"
   ]
  },
  {
   "cell_type": "code",
   "execution_count": null,
   "metadata": {},
   "outputs": [],
   "source": [
    "from pyngsi.__init__ import __version__ as version\n",
    "# provide a dictionary\n",
    "unit = {\"unitCode\": \"Pa\"}\n",
    "\n",
    "\n",
    "\n",
    "print(version)\n",
    "help(m.add)\n",
    "\n",
    "m = DataModel(id=\"Room2\", type=\"Room\")\n",
    "m.add(\"pressure\", 720, metadata=unit)\n",
    "\n",
    "m.pprint()"
   ]
  },
  {
   "cell_type": "markdown",
   "metadata": {},
   "source": [
    "### Ordering"
   ]
  },
  {
   "cell_type": "code",
   "execution_count": null,
   "metadata": {},
   "outputs": [],
   "source": [
    "# attributes are ordered in the creation order\n",
    "# so if ordering is important for you just take care at the creation time\n",
    "m.add(\"temperature\", 23.0)\n",
    "\n",
    "m.pprint()\n"
   ]
  },
  {
   "cell_type": "markdown",
   "metadata": {},
   "source": [
    "## Full example"
   ]
  },
  {
   "cell_type": "markdown",
   "metadata": {},
   "source": [
    "This example is used by the [Sencrop NGSI Agent](https://gitpixel.satrdlab.upv.es/orange/sencrop-ngsi) that collects weather data from the Sencrop API.<br>\n",
    "[Sencrop](https://sencrop.com/en/) is a french company that sells connected weather stations.<p>\n",
    "The datamodel used here extends the Fiware [WeatherObserved datamodel](https://fiware-datamodels.readthedocs.io/en/latest/Weather/WeatherObserved/doc/spec/index.html)."
   ]
  },
  {
   "cell_type": "code",
   "execution_count": null,
   "metadata": {},
   "outputs": [],
   "source": [
    "name = \"GPMB\" # Grand Port Maritime de Bordeaux\n",
    "date = \"2020-01-21T23:51:14.000Z\" # observation date\n",
    "provider = 20430 # sensor id\n",
    "\n",
    "model = DataModel(id=f\"{name}-WeatherObserved-Sencrop-{provider}-{date}\", type=\"WeatherObserved\")\n",
    "model.add(\"dataProvider\", \"https://app.sencrop.com\", isurl=True)\n",
    "model.add(\"address\", \"Port of Bassens\")\n",
    "model.add(\"refDevice\", f\"device-sencrop-{name}-{provider}\")\n",
    "model.add(\"dateObserved\", date, isdate=True)\n",
    "model.add(\"windSpeed\", 3.75)\n",
    "model.add(\"windGust\", 7.08)\n",
    "model.add(\"windDirection\", 59.0)\n",
    "\n",
    "model.pprint()"
   ]
  }
 ],
 "metadata": {
  "kernelspec": {
   "display_name": "Python 3.8.2 64-bit ('venv': venv)",
   "language": "python",
   "name": "python38264bitvenvvenva41776b7b4c24b1ea249e6dd67506952"
  },
  "language_info": {
   "codemirror_mode": {
    "name": "ipython",
    "version": 3
   },
   "file_extension": ".py",
   "mimetype": "text/x-python",
   "name": "python",
   "nbconvert_exporter": "python",
   "pygments_lexer": "ipython3",
   "version": "3.8.2-final"
  }
 },
 "nbformat": 4,
 "nbformat_minor": 4
}
