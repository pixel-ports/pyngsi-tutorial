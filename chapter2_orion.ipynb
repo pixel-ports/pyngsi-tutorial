{
 "nbformat": 4,
 "nbformat_minor": 2,
 "metadata": {
  "language_info": {
   "name": "python",
   "codemirror_mode": {
    "name": "ipython",
    "version": 3
   },
   "version": "3.8.2-final"
  },
  "orig_nbformat": 2,
  "file_extension": ".py",
  "mimetype": "text/x-python",
  "name": "python",
  "npconvert_exporter": "python",
  "pygments_lexer": "ipython3",
  "version": 3,
  "kernelspec": {
   "name": "python38264bitvenvvenv7db06e096c5f4d539d63f0eb51eaa462",
   "display_name": "Python 3.8.2 64-bit ('venv': venv)"
  }
 },
 "cells": [
  {
   "cell_type": "markdown",
   "metadata": {},
   "source": [
    "# Chapter 2 : Write to Orion"
   ],
   "execution_count": null,
   "outputs": []
  },
  {
   "cell_type": "markdown",
   "metadata": {},
   "source": [
    "Let's assume you have a NGSI entity ready to be sent to the Orion Context Broker.<br>\n",
    "Let's continue with the tutorial of the previous chapter."
   ],
   "execution_count": null,
   "outputs": []
  },
  {
   "cell_type": "code",
   "execution_count": 1,
   "metadata": {},
   "outputs": [
    {
     "output_type": "stream",
     "name": "stdout",
     "text": "{\n  \"id\": \"Room1\",\n  \"type\": \"Room\",\n  \"dateObserved\": {\n    \"value\": \"2020-03-27T07:18:39\",\n    \"type\": \"DateTime\"\n  },\n  \"pressure\": {\n    \"value\": 720,\n    \"type\": \"Integer\"\n  },\n  \"temperature\": {\n    \"value\": 23.0,\n    \"type\": \"Float\"\n  }\n}\n"
    }
   ],
   "source": [
    "# our basic NGSI entity from the previous chapter\n",
    "\n",
    "from datetime import datetime\n",
    "from pyngsi.ngsi import DataModel\n",
    "\n",
    "m = DataModel(id=\"Room1\", type=\"Room\")\n",
    "m.add(\"dateObserved\", datetime.now())\n",
    "m.add(\"pressure\", 720)\n",
    "m.add(\"temperature\", 23.0)\n",
    "\n",
    "m.pprint()"
   ]
  },
  {
   "cell_type": "markdown",
   "metadata": {},
   "source": [
    "## The SinkOrion class"
   ],
   "execution_count": null,
   "outputs": []
  },
  {
   "cell_type": "markdown",
   "metadata": {},
   "source": [
    "At this point you should have an Orion server up and running.<br>\n",
    "If not you could run your own local Docker-based server, as described in the Appendix."
   ],
   "execution_count": null,
   "outputs": []
  },
  {
   "cell_type": "markdown",
   "metadata": {},
   "source": [
    "**dir()** and **help()** are always useful."
   ],
   "execution_count": null,
   "outputs": []
  },
  {
   "cell_type": "code",
   "execution_count": 3,
   "metadata": {},
   "outputs": [
    {
     "output_type": "stream",
     "name": "stdout",
     "text": "Help on function __init__ in module pyngsi.sink:\n\n__init__(self, hostname='127.0.0.1', port='1026', baseurl='/v2/entities?options=upsert', service=None, servicepath=None, **kwargs)\n    Parameters\n    ----------\n    hostname : str\n        Server hostname\n    port : int\n        Server port\n    baseurl: str\n        Server Base URL\n    useragent: str\n        HTTP User-Agent header sent in the request\n    proxy: str\n        HTTP Proxy string (i.e http://127.0.0.1:8080)\n\n"
    }
   ],
   "source": [
    "# there are many other sinks mainly to help develop your agent\n",
    "# use help() for info\n",
    "# for the moment just focus on Orion\n",
    "from pyngsi.sink import SinkOrion\n",
    "\n",
    "# have a look at the init args\n",
    "help(SinkOrion.__init__)"
   ]
  },
  {
   "cell_type": "markdown",
   "metadata": {},
   "source": [
    "## Init the Sink"
   ],
   "execution_count": null,
   "outputs": []
  },
  {
   "cell_type": "code",
   "execution_count": 4,
   "metadata": {},
   "outputs": [
    {
     "output_type": "stream",
     "name": "stderr",
     "text": "2020-03-27 07:18:56.921 | DEBUG    | pyngsi.sink:__init__:209 - init SinkOrion\n2020-03-27 07:18:56.922 | DEBUG    | pyngsi.sink:__init__:145 - init SinkHttp\n2020-03-27 07:18:56.923 | INFO     | pyngsi.sink:__init__:161 - server url = self.url='http://127.0.0.1:1026/v2/entities?options=upsert'\n2020-03-27 07:18:56.924 | INFO     | pyngsi.sink:__init__:162 - User-Agent = useragent='NgsiAgent v1.2.3'\n2020-03-27 07:18:56.924 | INFO     | pyngsi.sink:__init__:163 - proxy = None\n2020-03-27 07:18:56.925 | INFO     | pyngsi.sink:__init__:232 - No token found. Request Orion without authentication.\n"
    }
   ],
   "source": [
    "# use our local Orion server\n",
    "sink = SinkOrion()"
   ]
  },
  {
   "cell_type": "markdown",
   "metadata": {},
   "source": [
    "## Write entity"
   ],
   "execution_count": null,
   "outputs": []
  },
  {
   "cell_type": "code",
   "execution_count": 5,
   "metadata": {},
   "outputs": [],
   "source": [
    "# by default it is a silent operation\n",
    "# it's ok unless an exception is raised\n",
    "sink.write(m.json())"
   ]
  },
  {
   "cell_type": "markdown",
   "metadata": {},
   "source": [
    "Congratulations ! You have wrote your first entity to Orion !"
   ]
  },
  {
   "cell_type": "markdown",
   "metadata": {},
   "source": [
    "## Visualize result"
   ],
   "execution_count": null,
   "outputs": []
  },
  {
   "cell_type": "markdown",
   "metadata": {},
   "source": [
    "```bash\n",
    "$ curl http://127.0.0.1:1026/v2/entities\n",
    "```\n",
    "[{\"id\":\"Room1\",\"type\":\"Room\",\"dateObserved\":{\"type\":\"DateTime\",\"value\":\"2020-03-27T07:18:39.00Z\",\"metadata\":{}},\"pressure\":{\"type\":\"Integer\",\"value\":720,\"metadata\":{}},\"temperature\":{\"type\":\"Float\",\"value\":23,\"metadata\":{}}}]"
   ]
  },
  {
   "cell_type": "markdown",
   "metadata": {},
   "source": [
    "## Update entity"
   ]
  },
  {
   "cell_type": "code",
   "execution_count": 7,
   "metadata": {},
   "outputs": [],
   "source": [
    "# update our entity : one degree more !\n",
    "m.add(\"dateObserved\", datetime.now())\n",
    "m.add(\"temperature\", 24.0)\n",
    "\n",
    "# write again\n",
    "sink.write(m.json())"
   ]
  },
  {
   "cell_type": "markdown",
   "metadata": {},
   "source": [
    "```bash\n",
    "$ curl http://127.0.0.1:1026/v2/entities\n",
    "```\n",
    "[{\"id\":\"Room1\",\"type\":\"Room\",\"dateObserved\":{\"type\":\"DateTime\",\"value\":\"2020-03-27T07:27:47.00Z\",\"metadata\":{}},\"pressure\":{\"type\":\"Integer\",\"value\":720,\"metadata\":{}},\"temperature\":{\"type\":\"Float\",\"value\":24,\"metadata\":{}}}]"
   ]
  },
  {
   "cell_type": "markdown",
   "metadata": {},
   "source": [
    "## Constuctor args in detail"
   ],
   "execution_count": null,
   "outputs": []
  },
  {
   "cell_type": "markdown",
   "metadata": {},
   "source": [
    "The default init args target a local installation.<br>\n",
    "If needed set the **hostname** and **port** according to your Orion server.<p>\n",
    "\n",
    "**baseurl** SHOULD not be modified.<p>\n",
    "\n",
    "**service** and **servicepath** have to do with Fiware [multi-tenancy](https://fiware-orion.readthedocs.io/en/master/user/multitenancy/index.html).<br>\n",
    "When provided, **Fiware-Service** and **Fiware-ServicePath** HTTP Headers are set accordingly.<p>\n",
    "\n",
    "**useragent** is the **User-Agent** HTTP Header sent to Orion.<br>\n",
    "It is set by **pyngsi** with its own version. You can override it.<p>\n",
    "\n",
    "**proxy** allows you to configure a proxy between the agent and Orion, for debugging purpose.<p>\n",
    "\n",
    "**token** allows you to provide an OAuth2 token for Orion authentication.<br>\n",
    "Default is no authentication.<p>\n",
    "Setting a token programmatically is NOT recommended in production mode - for security reasons.<p>\n",
    "You can safely use one of the two above methods :\n",
    "- set the environment variable **ORION_TOKEN**\n",
    "- if using Docker, set a docker secret named **orion_token**"
   ],
   "execution_count": null,
   "outputs": []
  },
  {
   "cell_type": "markdown",
   "metadata": {},
   "source": [
    "## Status"
   ]
  },
  {
   "cell_type": "code",
   "execution_count": 8,
   "metadata": {},
   "outputs": [
    {
     "output_type": "stream",
     "name": "stderr",
     "text": "2020-03-27 07:30:28.516 | DEBUG    | pyngsi.sink:__init__:209 - init SinkOrion\n2020-03-27 07:30:28.517 | DEBUG    | pyngsi.sink:__init__:145 - init SinkHttp\n2020-03-27 07:30:28.517 | INFO     | pyngsi.sink:__init__:161 - server url = self.url='http://127.0.0.1:1026/v2/entities?options=upsert'\n2020-03-27 07:30:28.518 | INFO     | pyngsi.sink:__init__:162 - User-Agent = useragent='NgsiAgent v1.2.3'\n2020-03-27 07:30:28.519 | INFO     | pyngsi.sink:__init__:163 - proxy = None\n2020-03-27 07:30:28.520 | INFO     | pyngsi.sink:__init__:232 - No token found. Request Orion without authentication.\n{'orion': {'version': '2.3.0-next', 'uptime': '0 d, 0 h, 14 m, 12 s', 'git_hash': 'c58a5f1667bef42f4097172e026b578e981d67e9', 'compile_time': 'Mon Mar 23 09:45:09 UTC 2020', 'compiled_by': 'root', 'compiled_in': 'de8bb6b5569e', 'release_date': 'Mon Mar 23 09:45:09 UTC 2020', 'doc': 'https://fiware-orion.rtfd.io/'}}\n"
    }
   ],
   "source": [
    "from pyngsi.sink import SinkOrion\n",
    "\n",
    "sink = SinkOrion()\n",
    "\n",
    "# we can ask Orion for its status\n",
    "status = sink.status()\n",
    "print(status)"
   ]
  }
 ]
}