{
 "nbformat": 4,
 "nbformat_minor": 2,
 "metadata": {
  "language_info": {
   "name": "python",
   "codemirror_mode": {
    "name": "ipython",
    "version": 3
   },
   "version": "3.8.2-final"
  },
  "orig_nbformat": 2,
  "file_extension": ".py",
  "mimetype": "text/x-python",
  "name": "python",
  "npconvert_exporter": "python",
  "pygments_lexer": "ipython3",
  "version": 3,
  "kernelspec": {
   "name": "python38264bitvenvvenv7db06e096c5f4d539d63f0eb51eaa462",
   "display_name": "Python 3.8.2 64-bit ('venv': venv)"
  }
 },
 "cells": [
  {
   "cell_type": "markdown",
   "metadata": {},
   "source": [
    "# Chapter 2 : Write to Orion"
   ],
   "execution_count": null,
   "outputs": []
  },
  {
   "cell_type": "markdown",
   "metadata": {},
   "source": [
    "Let's assume you have a NGSI entity ready to be sent to the Orion Context Broker.<br>\n",
    "Let's continue with the tutorial of the previous chapter."
   ],
   "execution_count": null,
   "outputs": []
  },
  {
   "cell_type": "code",
   "execution_count": null,
   "metadata": {},
   "outputs": [],
   "source": [
    "# our basic NGSI entity from the previous chapter\n",
    "\n",
    "from datetime import datetime\n",
    "from pyngsi.ngsi import DataModel\n",
    "\n",
    "m = DataModel(id=\"Room1\", type=\"Room\")\n",
    "m.add(\"dateObserved\", datetime.now())\n",
    "m.add(\"pressure\", 720)\n",
    "m.add(\"temperature\", 23.0)\n",
    "\n",
    "m.pprint()"
   ]
  },
  {
   "cell_type": "markdown",
   "metadata": {},
   "source": [
    "## The SinkOrion class"
   ],
   "execution_count": null,
   "outputs": []
  },
  {
   "cell_type": "markdown",
   "metadata": {},
   "source": [
    "At this point you should have an Orion server up and running.<br>\n",
    "If not you could run your own local Docker-based server, as described in the [Appendix](appendix.ipynb)."
   ],
   "execution_count": null,
   "outputs": []
  },
  {
   "cell_type": "markdown",
   "metadata": {},
   "source": [
    "**dir()** and **help()** are always useful."
   ],
   "execution_count": null,
   "outputs": []
  },
  {
   "cell_type": "code",
   "execution_count": null,
   "metadata": {},
   "outputs": [],
   "source": [
    "# there are many other sinks mainly to help develop your agent\n",
    "# use help() for info\n",
    "# for the moment just focus on Orion\n",
    "from pyngsi.sink import SinkOrion\n",
    "\n",
    "# have a look at the init args\n",
    "help(SinkOrion.__init__)"
   ]
  },
  {
   "cell_type": "markdown",
   "metadata": {},
   "source": [
    "## Init the Sink"
   ],
   "execution_count": null,
   "outputs": []
  },
  {
   "cell_type": "code",
   "execution_count": null,
   "metadata": {},
   "outputs": [],
   "source": [
    "# use our local Orion server\n",
    "sink = SinkOrion()"
   ]
  },
  {
   "cell_type": "markdown",
   "metadata": {},
   "source": [
    "## Write entity"
   ],
   "execution_count": null,
   "outputs": []
  },
  {
   "cell_type": "code",
   "execution_count": null,
   "metadata": {},
   "outputs": [],
   "source": [
    "# by default it is a silent operation\n",
    "# it's ok unless an exception is raised\n",
    "sink.write(m.json())"
   ]
  },
  {
   "cell_type": "markdown",
   "metadata": {},
   "source": [
    "## Update entity"
   ]
  },
  {
   "cell_type": "code",
   "execution_count": null,
   "metadata": {},
   "outputs": [],
   "source": [
    "# update our entity : one degree more !\n",
    "m.add(\"dateObserved\", datetime.now())\n",
    "m.add(\"temperature\", 24.0)\n",
    "m.pprint()\n",
    "\n",
    "# write again\n",
    "# it should update the entity in Orion\n",
    "sink.write(m.json())"
   ]
  },
  {
   "cell_type": "markdown",
   "metadata": {},
   "source": [
    "## Visualize result"
   ],
   "execution_count": null,
   "outputs": []
  },
  {
   "cell_type": "markdown",
   "metadata": {},
   "source": [
    "For the moment we have no means - using pyngsi - to visualize the result of writing to Orion.<br>\n",
    "It will be the point of [Chapter 5](chapter5_advanced.ipynb).<p>\n",
    "\n",
    "In the meanwhile you can [request](https://fiware-orion.readthedocs.io/en/master/user/walkthrough_apiv2/index.html#query-entity) entities directly from the Orion API.<br>\n",
    "Or as a first step just don'use Orion and replace SinkOrion with SinkStdout."
   ],
   "execution_count": null,
   "outputs": []
  },
  {
   "cell_type": "code",
   "execution_count": null,
   "metadata": {},
   "outputs": [],
   "source": [
    "from pyngsi.sink import SinkStdout\n",
    "\n",
    "sink = SinkStdout()\n",
    "\n",
    "sink.write(m.json)"
   ]
  },
  {
   "cell_type": "markdown",
   "metadata": {},
   "source": [
    "## Constuctor args in detail"
   ],
   "execution_count": null,
   "outputs": []
  },
  {
   "cell_type": "markdown",
   "metadata": {},
   "source": [
    "The default init args target a local installation.<br>\n",
    "If needed set the **hostname** and **port** according to your Orion server.<p>\n",
    "\n",
    "**baseurl** SHOULD not be modified.<p>\n",
    "\n",
    "**service** and **servicepath** have to do with Fiware [multi-tenancy](https://fiware-orion.readthedocs.io/en/master/user/multitenancy/index.html).<br>\n",
    "When provided, **Fiware-Service** and **Fiware-ServicePath** HTTP Headers are set accordingly.<p>\n",
    "\n",
    "**useragent** is the **User-Agent** HTTP Header sent to Orion.<br>\n",
    "It is set by **pyngsi** with its own version. You can override it.<p>\n",
    "\n",
    "**proxy** allows you to configure a proxy between the agent and Orion, for debugging purpose.<p>\n",
    "\n",
    "**token** allows you to provide an OAuth2 token for Orion authentication.<br>\n",
    "Default is no authentication.<p>\n",
    "Setting a token programmatically is NOT recommended in production mode - for security reasons.<p>\n",
    "You can safely use one of the two above methods :\n",
    "- set the environment variable **ORION_TOKEN**\n",
    "- if using Docker, set a docker secret named **orion_token**"
   ],
   "execution_count": null,
   "outputs": []
  },
  {
   "cell_type": "markdown",
   "metadata": {},
   "source": [
    "## Next"
   ]
  },
  {
   "cell_type": "markdown",
   "metadata": {},
   "source": [
    "Go to [Chapter 3](chapter3_source.ipynb)"
   ]
  }
 ]
}