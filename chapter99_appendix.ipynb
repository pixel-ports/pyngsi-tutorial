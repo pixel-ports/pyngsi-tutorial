{
 "nbformat": 4,
 "nbformat_minor": 2,
 "metadata": {
  "language_info": {
   "name": "python",
   "codemirror_mode": {
    "name": "ipython",
    "version": 3
   }
  },
  "orig_nbformat": 2,
  "file_extension": ".py",
  "mimetype": "text/x-python",
  "name": "python",
  "npconvert_exporter": "python",
  "pygments_lexer": "ipython3",
  "version": 3
 },
 "cells": [
  {
   "cell_type": "markdown",
   "metadata": {},
   "source": [
    "# Appendix"
   ]
  },
  {
   "cell_type": "markdown",
   "metadata": {},
   "source": [
    "## Run a Docker-based Orion instance locally"
   ]
  },
  {
   "cell_type": "markdown",
   "metadata": {},
   "source": [
    "## Start Orion\n",
    "\n",
    "Retrieve the [docker-compose](https://github.com/pixel-ports/pyngsi/blob/master/docker-compose.yml) file on the github repo.<p>\n",
    "\n",
    "```bash\n",
    "$ docker-compose up -d\n",
    "```\n",
    "\n",
    "On the first time, it will pull the images for the Docker repository.<p>\n",
    "\n",
    "Orion uses mongodb as a backing database.\n",
    "\n",
    "```bash\n",
    "$ docker ps\n",
    "\n",
    "CONTAINER ID        IMAGE               COMMAND                  CREATED             STATUS              PORTS                    NAMES\n",
    "e994bef626d0        fiware/orion        \"/usr/bin/contextBro…\"   10 hours ago        Up 10 hours         0.0.0.0:1026->1026/tcp   orion\n",
    "7c7a6cf3a078        mongo               \"docker-entrypoint.s…\"   10 hours ago        Up 10 hours         27017/tcp                oriondb\n",
    "```\n",
    "\n",
    "## Access logs\n",
    "\n",
    "```bash\n",
    "$ docker logs -f orion\n",
    "```\n",
    "\n",
    "Refer to Chapter 6 to modify the log level in Orion.\n",
    "\n",
    "## Stop Orion\n",
    "\n",
    "```bash\n",
    "$ docker-compose down\n",
    "```"
   ]
  }
 ]
}