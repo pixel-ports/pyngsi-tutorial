{
 "cells": [
  {
   "cell_type": "markdown",
   "metadata": {},
   "source": [
    "# Chapter 5 : Schedule"
   ],
   "execution_count": null,
   "outputs": []
  },
  {
   "cell_type": "markdown",
   "metadata": {},
   "source": [
    "The Scheduler class allows to run an agent periodically.<p>\n",
    "\n",
    "Of course you could write an agent then schedule executions using an external scheduler such as cron.<p>\n",
    "\n",
    "The benefits of scheduling with the framework are :\n",
    "- easy and immediate\n",
    "- keep status and consolidated statistics during the agent lifetime"
   ],
   "execution_count": null,
   "outputs": []
  },
  {
   "cell_type": "markdown",
   "metadata": {},
   "source": [
    "## Example"
   ],
   "execution_count": null,
   "outputs": []
  },
  {
   "cell_type": "markdown",
   "metadata": {},
   "source": [
    "### Let's start by creating a dummy NGSI agent"
   ],
   "execution_count": null,
   "outputs": []
  },
  {
   "cell_type": "code",
   "execution_count": null,
   "metadata": {},
   "outputs": [],
   "source": [
    "from pyngsi.ngsi import DataModel\n",
    "from pyngsi.source import SourceSingle, Row\n",
    "from pyngsi.sink import SinkStdout\n",
    "from pyngsi.agent import NgsiAgent\n",
    "\n",
    "dummy = DataModel(id=\"dummy\", type=\"dummy\")\n",
    "src = SourceSingle(\"dummy\")\n",
    "sink = SinkStdout()\n",
    "\n",
    "# init the dummy agent\n",
    "agent = NgsiAgent.create_agent(src, sink, lambda x: dummy)\n",
    "\n",
    "# run once\n",
    "agent.run()"
   ]
  },
  {
   "cell_type": "markdown",
   "metadata": {},
   "source": [
    "### Schedule the dummy agent each 5 seconds"
   ],
   "execution_count": null,
   "outputs": []
  },
  {
   "cell_type": "code",
   "execution_count": null,
   "metadata": {},
   "outputs": [],
   "source": [
    "from pyngsi.scheduler import Scheduler, UNIT\n",
    "\n",
    "scheduler = Scheduler(agent, interval=5, unit=UNIT.seconds)\n",
    "scheduler.run()"
   ]
  },
  {
   "cell_type": "markdown",
   "metadata": {},
   "source": [
    "### Additional endpoints\n",
    "\n",
    "- **/version**\n",
    "\n",
    "```\n",
    "{\n",
    "  \"name\": \"pyngsi\",\n",
    "  \"version\": \"1.2.3\"\n",
    "}\n",
    "```\n",
    "\n",
    "- **/status** : get status and consolidated statistics\n",
    "\n",
    "```\n",
    "{\n",
    "  \"ngsi_stats\": {\n",
    "    \"error\": 0,\n",
    "    \"filtered\": 0,\n",
    "    \"input\": 6,\n",
    "    \"output\": 6,\n",
    "    \"processed\": 6\n",
    "  },\n",
    "  \"server_status\": {\n",
    "    \"calls\": 6,\n",
    "    \"calls_error\": 0,\n",
    "    \"calls_success\": 6,\n",
    "    \"lastcalltime\": \"Fri, 27 Mar 2020 14:17:12 GMT\",\n",
    "    \"starttime\": \"Fri, 27 Mar 2020 14:17:03 GMT\"\n",
    "  }\n",
    "}\n",
    "\n",
    "```"
   ],
   "execution_count": null,
   "outputs": []
  }
 ],
 "metadata": {
  "kernelspec": {
   "display_name": "Python 3.8.2 64-bit ('venv': venv)",
   "language": "python",
   "name": "python38264bitvenvvenva41776b7b4c24b1ea249e6dd67506952"
  },
  "language_info": {
   "codemirror_mode": {
    "name": "ipython",
    "version": 3
   },
   "file_extension": ".py",
   "mimetype": "text/x-python",
   "name": "python",
   "nbconvert_exporter": "python",
   "pygments_lexer": "ipython3",
   "version": "3.8.2-final"
  }
 },
 "nbformat": 4,
 "nbformat_minor": 4
}
