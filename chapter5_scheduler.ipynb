{
 "cells": [
  {
   "cell_type": "markdown",
   "metadata": {},
   "source": [
    "# Chapter 5 : Schedule"
   ],
   "execution_count": null,
   "outputs": []
  },
  {
   "cell_type": "markdown",
   "metadata": {},
   "source": [
    "The Scheduler class allows to run an agent periodically.<p>\n",
    "\n",
    "Of course you could write an agent then schedule executions using an external scheduler such as cron.<p>\n",
    "\n",
    "The benefits of scheduling with the framework are :\n",
    "- easy and immediate\n",
    "- keep status and consolidated statistics during the agent lifetime"
   ],
   "execution_count": null,
   "outputs": []
  },
  {
   "cell_type": "markdown",
   "metadata": {},
   "source": [
    "## Example"
   ],
   "execution_count": null,
   "outputs": []
  },
  {
   "cell_type": "markdown",
   "metadata": {},
   "source": [
    "### Let's start by creating a dummy NGSI agent"
   ],
   "execution_count": null,
   "outputs": []
  },
  {
   "cell_type": "code",
   "execution_count": 4,
   "metadata": {},
   "outputs": [
    {
     "output_type": "stream",
     "name": "stderr",
     "text": "2020-03-27 15:18:11.308 | INFO     | pyngsi.agent:__init__:110 - init NGSI agent\n2020-03-27 15:18:11.309 | INFO     | pyngsi.agent:__init__:112 - source = [SourceSingle]\n2020-03-27 15:18:11.310 | INFO     | pyngsi.agent:__init__:114 - sink = [SinkStdout]\n2020-03-27 15:18:11.311 | INFO     | pyngsi.agent:run:123 - start to acquire data\n{\"id\": \"dummy\", \"type\": \"dummy\"}\n"
    },
    {
     "output_type": "execute_result",
     "data": {
      "text/plain": "<pyngsi.agent.NgsiAgentPull at 0x7f72b9cd75b0>"
     },
     "metadata": {},
     "execution_count": 4
    }
   ],
   "source": [
    "from pyngsi.ngsi import DataModel\n",
    "from pyngsi.source import SourceSingle, Row\n",
    "from pyngsi.sink import SinkStdout\n",
    "from pyngsi.agent import NgsiAgent\n",
    "\n",
    "dummy = DataModel(id=\"dummy\", type=\"dummy\")\n",
    "src = SourceSingle(\"dummy\")\n",
    "sink = SinkStdout()\n",
    "\n",
    "# init the dummy agent\n",
    "agent = NgsiAgent.create_agent(src, sink, lambda x: dummy)\n",
    "\n",
    "# run once\n",
    "agent.run()"
   ]
  },
  {
   "cell_type": "markdown",
   "metadata": {},
   "source": [
    "### Schedule the dummy agent each 5 seconds"
   ],
   "execution_count": null,
   "outputs": []
  },
  {
   "cell_type": "code",
   "execution_count": null,
   "metadata": {},
   "outputs": [],
   "source": [
    "from pyngsi.scheduler import Scheduler, UNIT\n",
    "\n",
    "scheduler = Scheduler(agent, interval=5, unit=UNIT.seconds)\n",
    "scheduler.run()"
   ]
  }
 ],
 "metadata": {
  "kernelspec": {
   "display_name": "Python 3.8.2 64-bit ('venv': venv)",
   "language": "python",
   "name": "python38264bitvenvvenva41776b7b4c24b1ea249e6dd67506952"
  },
  "language_info": {
   "codemirror_mode": {
    "name": "ipython",
    "version": 3
   },
   "file_extension": ".py",
   "mimetype": "text/x-python",
   "name": "python",
   "nbconvert_exporter": "python",
   "pygments_lexer": "ipython3",
   "version": "3.8.2-final"
  }
 },
 "nbformat": 4,
 "nbformat_minor": 4
}