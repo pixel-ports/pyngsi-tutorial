{
 "nbformat": 4,
 "nbformat_minor": 2,
 "metadata": {
  "language_info": {
   "name": "python",
   "codemirror_mode": {
    "name": "ipython",
    "version": 3
   },
   "version": "3.8.2-final"
  },
  "orig_nbformat": 2,
  "file_extension": ".py",
  "mimetype": "text/x-python",
  "name": "python",
  "npconvert_exporter": "python",
  "pygments_lexer": "ipython3",
  "version": 3,
  "kernelspec": {
   "name": "python38264bitvenvvenv7db06e096c5f4d539d63f0eb51eaa462",
   "display_name": "Python 3.8.2 64-bit ('venv': venv)"
  }
 },
 "cells": [
  {
   "cell_type": "markdown",
   "metadata": {},
   "source": [
    "# Chapter 2 : Use Sink classes"
   ],
   "execution_count": null,
   "outputs": []
  },
  {
   "cell_type": "markdown",
   "metadata": {},
   "source": [
    "Let's assume you have a NGSI entity ready to be sent to the Orion Context Broker.<br>\n",
    "Let's continue with the tutorial of the previous chapter."
   ],
   "execution_count": null,
   "outputs": []
  },
  {
   "cell_type": "code",
   "execution_count": null,
   "metadata": {},
   "outputs": [],
   "source": [
    "# our basic NGSI entity from the previous chapter\n",
    "\n",
    "from datetime import datetime\n",
    "from pyngsi.ngsi import DataModel\n",
    "\n",
    "m = DataModel(id=\"Room1\", type=\"Room\")\n",
    "m.add(\"dateObserved\", datetime.now())\n",
    "m.add(\"pressure\", 720)\n",
    "m.add(\"temperature\", 23.0)\n",
    "\n",
    "m.pprint()"
   ]
  },
  {
   "cell_type": "markdown",
   "metadata": {},
   "source": [
    "At this point you should have an Orion instance available.<br>\n",
    "If not you can run a [local](appendix.ipynb#section_docker) Docker-based instance."
   ],
   "execution_count": null,
   "outputs": []
  }
 ]
}