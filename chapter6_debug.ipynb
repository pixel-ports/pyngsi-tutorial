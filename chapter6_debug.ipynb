{
 "cells": [
  {
   "cell_type": "markdown",
   "metadata": {},
   "source": [
    "# Chapter 6 : Debugging"
   ],
   "execution_count": null,
   "outputs": []
  },
  {
   "cell_type": "markdown",
   "metadata": {},
   "source": [
    "We need tools to debug, display sink output, troubleshoot communication with Orion."
   ],
   "execution_count": null,
   "outputs": []
  },
  {
   "cell_type": "markdown",
   "metadata": {},
   "source": [
    "## Debug the agent\n",
    "\n",
    "**pyngsi** relies on [loguru](https://github.com/Delgan/loguru) for logging.\n",
    "\n",
    "You can set the logging level :\n",
    "\n",
    "- by using the [LOGURU_LEVEL](https://loguru.readthedocs.io/en/stable/api/logger.html#env) environment variable\n",
    "\n",
    "- programmatically :\n",
    "    ```python\n",
    "    from loguru import logger\n",
    "\n",
    "    logger.remove()\n",
    "    logger.add(sys.stderr, level=\"DEBUG\")\n",
    "```"
   ],
   "execution_count": null,
   "outputs": []
  },
  {
   "cell_type": "markdown",
   "metadata": {},
   "source": [
    "## Display the agent output\n",
    "\n",
    "Sometimes you need to display the output of your agent.<p>\n",
    "\n",
    "You can replace Orion with other Sinks. You already know SinkStdout.<br>\n",
    "**SinkFile** and **SinkFileGzipped** can also be useful."
   ],
   "execution_count": null,
   "outputs": []
  },
  {
   "cell_type": "markdown",
   "metadata": {},
   "source": [
    "## Troubleshoot Orion\n",
    "\n",
    "### Change Orion log level\n",
    "\n",
    "```bash\n",
    "curl -X PUT -s -S \"http://127.0.0.1:1026/admin/log?level=DEBUG\"\n",
    "```\n",
    "\n",
    "### Request Orion entities\n",
    "\n",
    "```bash\n",
    "curl http://127.0.0.1:1026/v2/entities | jq .\n",
    "```\n",
    "\n",
    "### Set a proxy in SinkOrion\n",
    "\n",
    "```python\n",
    "sink = SinkOrion(proxy=\"http://127.0.0.1:8080\")\n",
    "```\n",
    "\n",
    "Then use an HTTP intercepting proxy *such as Burp Suite* to monitor traffic towards Orion.\n"
   ],
   "execution_count": null,
   "outputs": []
  }
 ],
 "metadata": {
  "kernelspec": {
   "display_name": "Python 3.8.2 64-bit ('venv': venv)",
   "language": "python",
   "name": "python38264bitvenvvenva41776b7b4c24b1ea249e6dd67506952"
  },
  "language_info": {
   "codemirror_mode": {
    "name": "ipython",
    "version": 3
   },
   "file_extension": ".py",
   "mimetype": "text/x-python",
   "name": "python",
   "nbconvert_exporter": "python",
   "pygments_lexer": "ipython3",
   "version": "3.8.2-final"
  }
 },
 "nbformat": 4,
 "nbformat_minor": 4
}