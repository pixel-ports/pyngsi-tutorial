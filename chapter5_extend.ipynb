{
 "cells": [
  {
   "cell_type": "markdown",
   "metadata": {},
   "source": [
    "# Chapter 4 : Datasources"
   ],
   "execution_count": null,
   "outputs": []
  },
  {
   "cell_type": "markdown",
   "metadata": {},
   "source": [
    "Dealing with datasources is the most complex part because datasources are versatile :\n",
    "- Different content formats : plain text, json, ...\n",
    "- Different protocols UDP, FTP, HTTP, ...\n",
    "- Request (request the datasource aka client mode) or Being requested (server mode)."
   ],
   "execution_count": null,
   "outputs": []
  },
  {
   "cell_type": "markdown",
   "metadata": {},
   "source": [
    "## Dive into the Source class"
   ],
   "execution_count": null,
   "outputs": []
  },
  {
   "cell_type": "markdown",
   "metadata": {},
   "source": [
    "The Source class aims at providing a common interface for all datasources.<p>\n",
    "As datasources have very little in common, the only assumption made by the framework is :<br>\n",
    "\n",
    "**Every datasource is iterable**<br>\n",
    "\n",
    "In practical terms, a Source uses a Python generator.<br>\n",
    "The *pyngsi.source* package offers many generic sources, and it's easy to create your custom Source by extending the Source class.<p>\n",
    "\n",
    "A Source iterates over rows.<br>\n",
    "Rows are composed of two parts :\n",
    "- the record : the incoming content itself (the payload)\n",
    "- the content provider : just a string that reminds the origin of the row\n",
    "\n",
    "Theses 2 points - the iterable sources and the row definition - are the basement of the framework.<br>\n",
    "This common interface will allow us to create agents that will use our Sources, as we have seen in the previous chapter."
   ],
   "execution_count": null,
   "outputs": []
  },
  {
   "cell_type": "markdown",
   "metadata": {},
   "source": [
    "### The Row"
   ]
  },
  {
   "cell_type": "code",
   "execution_count": null,
   "metadata": {},
   "outputs": [],
   "source": [
    "from pyngsi.source import Row\n",
    "\n",
    "help(Row.__init__)"
   ]
  },
  {
   "cell_type": "markdown",
   "metadata": {},
   "source": [
    "### Sources provided by the framework"
   ],
   "execution_count": null,
   "outputs": []
  },
  {
   "cell_type": "code",
   "execution_count": null,
   "metadata": {},
   "outputs": [],
   "source": [
    "import pyngsi.source\n",
    "\n",
    "print([x for x in dir(pyngsi.source) if x.startswith(\"Source\")])"
   ]
  },
  {
   "cell_type": "markdown",
   "metadata": {},
   "source": [
    "- Source is the Source base class\n",
    "\n",
    "- SourceSampleOrion is the Source dedicated to the tutorial\n",
    "\n",
    "- SourceStdin takes incoming data from standard input\n",
    "\n",
    "- SourceFile takes incoming data from a local file (supports zip & gzip compression)\n",
    "\n",
    "- SourceJson takes JSON incoming data, from stdin or from a file (supports zip & gzip compression).<br>\n",
    "If the incoming JSON is a JSON Array then SourceJson iterates over the array\n",
    "\n",
    "- SourceIter takes incoming data from any Python Sequence argument (list, tuple, ...) provided to the constuctor\n",
    "\n",
    "- SourceSingle takes incoming data from the argument provided to the constuctor\n"
   ],
   "execution_count": null,
   "outputs": []
  },
  {
   "cell_type": "markdown",
   "metadata": {},
   "source": [
    "## Basic Example"
   ]
  },
  {
   "cell_type": "markdown",
   "metadata": {},
   "source": [
    "Here the Source takes incoming data from a compressed JSON file.\n",
    "\n",
    "As the JSON is an array, the Source iterates over each row of the JSON Array.<br>\n",
    "The provider is filled with the name of the file."
   ]
  },
  {
   "cell_type": "code",
   "execution_count": null,
   "metadata": {},
   "outputs": [],
   "source": [
    "from pyngsi.source import Source\n",
    "\n",
    "src = Source.create_source_from_file(\"files/colors.json.gz\")\n",
    "\n",
    "for row in src:\n",
    "    print(row)"
   ]
  },
  {
   "cell_type": "markdown",
   "metadata": {},
   "source": [
    "## Our first custom Source"
   ],
   "execution_count": null,
   "outputs": []
  },
  {
   "cell_type": "code",
   "execution_count": null,
   "metadata": {},
   "outputs": [],
   "source": [
    "from pyngsi.source import Source\n",
    "\n",
    "class CustomSource(Source): \n",
    "    def __init__(self, rooms): \n",
    "        self.rooms = rooms \n",
    "        \n",
    "    def __iter__(self): \n",
    "        for record in self.rooms: \n",
    "            yield Row(\"custom\", record)"
   ]
  },
  {
   "cell_type": "markdown",
   "metadata": {},
   "source": [
    "Let's use it"
   ],
   "execution_count": null,
   "outputs": []
  },
  {
   "cell_type": "code",
   "execution_count": null,
   "metadata": {},
   "outputs": [],
   "source": [
    "# our CSV lines\n",
    "rooms = [\"Room1;23;720\", \"Room2;21;711\"]\n",
    "\n",
    "# init the source\n",
    "src = CustomSource(rooms)\n",
    "\n",
    "# consume the source and print rows\n",
    "for row in src:\n",
    "    print(row)"
   ]
  },
  {
   "cell_type": "markdown",
   "metadata": {},
   "source": [
    "Your custom Source will rely on the same principles.<br>\n",
    "The only difference is that you will have to focus on how to acquire your own data."
   ],
   "execution_count": null,
   "outputs": []
  }
 ],
 "metadata": {
  "kernelspec": {
   "display_name": "Python 3.8.2 64-bit ('venv': venv)",
   "language": "python",
   "name": "python38264bitvenvvenva41776b7b4c24b1ea249e6dd67506952"
  },
  "language_info": {
   "codemirror_mode": {
    "name": "ipython",
    "version": 3
   },
   "file_extension": ".py",
   "mimetype": "text/x-python",
   "name": "python",
   "nbconvert_exporter": "python",
   "pygments_lexer": "ipython3",
   "version": "3.8.2-final"
  }
 },
 "nbformat": 4,
 "nbformat_minor": 4
}