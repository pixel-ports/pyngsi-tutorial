{
 "cells": [
  {
   "cell_type": "markdown",
   "metadata": {},
   "source": [
    "# Chapter 4 : Datasources"
   ],
   "execution_count": null,
   "outputs": []
  },
  {
   "cell_type": "markdown",
   "metadata": {},
   "source": [
    "Dealing with datasources is the most complex part because datasources are versatile :\n",
    "- Different content formats : plain text, json, ...\n",
    "- Different protocols UDP, FTP, HTTP, ...\n",
    "- Request (request the datasource aka client mode) or Being requested (server mode)."
   ],
   "execution_count": null,
   "outputs": []
  },
  {
   "cell_type": "markdown",
   "metadata": {},
   "source": [
    "## Dive into the Source class"
   ],
   "execution_count": null,
   "outputs": []
  },
  {
   "cell_type": "markdown",
   "metadata": {},
   "source": [
    "The Source class aims at providing a common interface for all datasources.<p>\n",
    "As datasources have very little in common, the only assumption made by the framework is :<br>\n",
    "\n",
    "**Every datasource is iterable**<br>\n",
    "\n",
    "In practical terms, a Source uses a Python generator.<br>\n",
    "The *pyngsi.source* package offers many generic sources, and it's easy to create your custom Source by extending the Source class.<p>\n",
    "\n",
    "A Source iterates over rows.<br>\n",
    "Rows are composed of two parts :\n",
    "- the record : the incoming content itself (the payload)\n",
    "- the content provider : just a string that reminds the origin of the row\n",
    "\n",
    "Theses 2 points - the iterable sources and the row definition - are the basement of the framework.<br>\n",
    "This common interface will allow us to create agents that will use our Sources, as we have seen in the previous chapter."
   ],
   "execution_count": null,
   "outputs": []
  },
  {
   "cell_type": "markdown",
   "metadata": {},
   "source": [
    "### The Row"
   ]
  },
  {
   "cell_type": "code",
   "execution_count": null,
   "metadata": {},
   "outputs": [],
   "source": [
    "from pyngsi.source import Row\n",
    "\n",
    "help(Row.__init__)"
   ]
  },
  {
   "cell_type": "markdown",
   "metadata": {},
   "source": [
    "### Sources provided by the framework"
   ],
   "execution_count": null,
   "outputs": []
  },
  {
   "cell_type": "code",
   "execution_count": null,
   "metadata": {},
   "outputs": [],
   "source": [
    "import pyngsi.source\n",
    "\n",
    "print([x for x in dir(pyngsi.source) if x.startswith(\"Source\")])"
   ]
  },
  {
   "cell_type": "markdown",
   "metadata": {},
   "source": [
    "- Source is the Source base class\n",
    "\n",
    "- SourceSampleOrion is the Source dedicated to the tutorial\n",
    "\n",
    "- SourceStdin takes incoming data from standard input\n",
    "\n",
    "- SourceFile takes incoming data from a local file (supports zip & gzip compression)\n",
    "\n",
    "- SourceJson takes JSON incoming data, from stdin or from a file (supports zip & gzip compression).<br>\n",
    "If the incoming JSON is a JSON Array then SourceJson iterates over the array\n",
    "\n",
    "- SourceIter takes incoming data from any Python Sequence argument (list, tuple, ...) provided to the constuctor\n",
    "\n",
    "- SourceSingle takes incoming data from the argument provided to the constuctor\n"
   ],
   "execution_count": null,
   "outputs": []
  },
  {
   "cell_type": "markdown",
   "metadata": {},
   "source": [
    "## Example 1 : Process a local file"
   ]
  },
  {
   "cell_type": "markdown",
   "metadata": {},
   "source": [
    "Here the Source takes incoming data from a compressed JSON file.<br>\n",
    "\n",
    "\n",
    "As the JSON is an array, the Source iterates over each row of the JSON Array.<br>\n",
    "The provider is filled with the name of the file."
   ]
  },
  {
   "cell_type": "code",
   "execution_count": null,
   "metadata": {},
   "outputs": [],
   "source": [
    "from pyngsi.source import Source\n",
    "\n",
    "# returns a SourceJson guessed from the extension\n",
    "src = Source.create_source_from_file(\"files/colors.json.gz\")\n",
    "\n",
    "for row in src:\n",
    "    print(row)"
   ]
  },
  {
   "cell_type": "markdown",
   "metadata": {},
   "source": [
    "## Example 2 : Process FTP files"
   ]
  },
  {
   "cell_type": "markdown",
   "metadata": {},
   "source": [
    "A quite complex example made easy.<p>\n",
    "\n",
    "The FTP server used in the example serves RFC files.<br>\n",
    "Each RFC comes with a brief description in a JSON file.<br>\n",
    "Have a look at rfc959.json in the *files/* folder.<p>\n",
    "\n",
    "We will output NGSI entities to Orion with a great datamodel exposing the title, the date of publication and the number of pages.<br>\n",
    "We will focus only on RFC958 and RFC2228 speaking about the FTP protocol."
   ]
  },
  {
   "cell_type": "markdown",
   "metadata": {},
   "source": [
    "### Define our datamodel"
   ]
  },
  {
   "cell_type": "code",
   "execution_count": 5,
   "metadata": {},
   "outputs": [],
   "source": [
    "from datetime import datetime\n",
    "\n",
    "from pyngsi.source import Row\n",
    "from pyngsi.ngsi import DataModel\n",
    "\n",
    "def build_entity(row: Row) -> DataModel:\n",
    "    rfc = row.record\n",
    "    m = DataModel(id=rfc[\"doc_id\"], type=\"RFC\")\n",
    "    m.add(\"dataProvider\", row.provider)\n",
    "    m.add(\"title\", rfc[\"title\"])\n",
    "    m.add(\"publicationDate\", datetime.strptime(rfc[\"pub_date\"], \"%B %Y\"))\n",
    "    m.add(\"pageCount\", int(rfc[\"page_count\"]))\n",
    "    return m"
   ]
  },
  {
   "cell_type": "markdown",
   "metadata": {},
   "source": [
    "### Let's use our datamodel in our Agent"
   ]
  },
  {
   "cell_type": "code",
   "execution_count": 8,
   "metadata": {},
   "outputs": [
    {
     "output_type": "stream",
     "name": "stderr",
     "text": "2020-03-27 11:38:25.977 | DEBUG    | pyngsi.ftpclient:__init__:22 - Connect to FTP server\n2020-03-27 11:38:27.881 | INFO     | pyngsi.source:_retrieve_filelist:308 - Found 2 matching files\n2020-03-27 11:38:27.882 | DEBUG    | pyngsi.ftpclient:download:46 - Download file /pub/rfc/rfc2228.json\n2020-03-27 11:38:28.666 | DEBUG    | pyngsi.ftpclient:download:46 - Download file /pub/rfc/rfc958.json\n2020-03-27 11:38:29.492 | DEBUG    | pyngsi.ftpclient:close:57 - Disconnect from FTP server\n2020-03-27 11:38:29.591 | INFO     | pyngsi.agent:__init__:110 - init NGSI agent\n2020-03-27 11:38:29.593 | INFO     | pyngsi.agent:__init__:112 - source = [SourceFtp]\n2020-03-27 11:38:29.595 | INFO     | pyngsi.agent:__init__:114 - sink = [SinkStdout]\n2020-03-27 11:38:29.597 | INFO     | pyngsi.agent:run:123 - start to acquire data\n2020-03-27 11:38:29.599 | INFO     | pyngsi.source:__iter__:296 - process local /tmp/tmptzzan6uh/rfc2228.json\n2020-03-27 11:38:29.605 | INFO     | pyngsi.source:__iter__:296 - process local /tmp/tmptzzan6uh/rfc958.json\n2020-03-27 11:38:29.610 | INFO     | pyngsi.agent:close:143 - close NGSI agent\n2020-03-27 11:38:29.612 | INFO     | pyngsi.agent:close:144 - NgsiAgent.Stats(input=2, processed=2, output=2, filtered=0, error=0)\n2020-03-27 11:38:29.614 | INFO     | pyngsi.agent:close:147 - close sink\n{\"id\": \"RFC2228\", \"type\": \"RFC\", \"dataProvider\": {\"value\": \"rfc2228.json\", \"type\": \"Text\"}, \"title\": {\"value\": \" FTP Security Extensions \", \"type\": \"Text\"}, \"publicationDate\": {\"value\": \"1997-09-01T00:00:00\", \"type\": \"DateTime\"}, \"pageCount\": {\"value\": 27, \"type\": \"Integer\"}}\n{\"id\": \"RFC0958\", \"type\": \"RFC\", \"dataProvider\": {\"value\": \"rfc958.json\", \"type\": \"Text\"}, \"title\": {\"value\": \" Network Time Protocol (NTP) \", \"type\": \"Text\"}, \"publicationDate\": {\"value\": \"1985-09-01T00:00:00\", \"type\": \"DateTime\"}, \"pageCount\": {\"value\": 14, \"type\": \"Integer\"}}\nNgsiAgent.Stats(input=2, processed=2, output=2, filtered=0, error=0)\n"
    }
   ],
   "source": [
    "from pyngsi.source import SourceFtp\n",
    "from pyngsi.sink import SinkStdout\n",
    "from pyngsi.agent import NgsiAgent\n",
    "\n",
    "# help(SourceFtp) for more info\n",
    "src = SourceFtp(\"ftp.ps.pl\", paths=[\n",
    "    \"/pub/rfc\"], f_match=lambda x: x.endswith(\"rfc958.json\") or x.endswith(\"rfc2228.json\"))\n",
    "\n",
    "# if you have an Orion server available, just replace SinkStdout() with SinkOrion()\n",
    "sink = SinkStdout()\n",
    "\n",
    "# the source has auto-detected that we deal with JSON files, hence has parsed json for us\n",
    "agent = NgsiAgent.create_agent(src, sink, process=build_entity)\n",
    "agent.run()\n",
    "\n",
    "# resources are freed\n",
    "# here the agent removes the temporary directory (where files were downloaded).\n",
    "agent.close()\n",
    "\n",
    "# get statistics\n",
    "print(agent.stats)\n",
    "\n"
   ]
  },
  {
   "cell_type": "markdown",
   "metadata": {},
   "source": [
    "## Example 3 : Expose a REST API (Server mode)"
   ]
  },
  {
   "cell_type": "markdown",
   "metadata": {},
   "source": [
    "This time the Agent doesn't get incoming data from the datasource.<p>\n",
    "\n",
    "In server mode, the Agent is requested by the datasource.<br>\n",
    "From the datasource point of view we could also call that push mode.<p>\n",
    "\n",
    "In this example our temperature/pressure sensors store measures locally and a JSON file is sent periodically to the Agent."
   ]
  },
  {
   "cell_type": "markdown",
   "metadata": {},
   "source": [
    "### Define your datamodel"
   ]
  },
  {
   "cell_type": "code",
   "execution_count": 9,
   "metadata": {},
   "outputs": [],
   "source": [
    "from pyngsi.source import Row\n",
    "from pyngsi.ngsi import DataModel\n",
    "\n",
    "def build_entity(row: Row) -> DataModel:\n",
    "    r = row.record\n",
    "    m = DataModel(id=r[\"room\"], type=\"Room\")\n",
    "    m.add(\"temperature\", r[\"temperature\"])\n",
    "    m.add(\"pressure\", r[\"pressure\"])\n",
    "    return m"
   ]
  },
  {
   "cell_type": "markdown",
   "metadata": {},
   "source": [
    "### Let's use our datamodel in our Agent"
   ]
  },
  {
   "cell_type": "code",
   "execution_count": null,
   "metadata": {},
   "outputs": [],
   "source": [
    "from pyngsi.server import ServerHttpUpload\n",
    "from pyngsi.sink import SinkStdout\n",
    "from pyngsi.agent import NgsiAgent\n",
    "\n",
    "# help(ServerHttpUpload) for more info\n",
    "src = ServerHttpUpload()\n",
    "\n",
    "# if you have an Orion server available, just replace SinkStdout() with SinkOrion()\n",
    "sink = SinkStdout()\n",
    "\n",
    "# the agent processes JSON content received from the client\n",
    "agent = NgsiAgent.create_agent(src, sink, process=build_entity)\n",
    "\n",
    "# You must push data to the source, here we send POST requests to the server\n",
    "# For example, in a bash shell, type in :\n",
    "# curl -X POST -H \"Content-Type: application/json\" -d '{\"room\":\"Room1\",\"temperature\":23.0,\"pressure\":710}' http://127.0.0.1:8080/upload\n",
    "# You could also send a JSON Array. For example, type in :\n",
    "# curl -X POST -H \"Content-Type: application/json\" -d '[{\"room\":\"Room1\",\"temperature\":23.0,\"pressure\":710},{\"room\":\"Room2\",\"temperature\":21.0,\"pressure\":711}]' http://127.0.0.1:8080/upload\n",
    "# You can also send a file, the NGSI datasource provider is set as the filename\n",
    "# curl -v -F file=@test.json http://127.0.0.1:8080/upload\n",
    "# CTRL-C to stop the server\n",
    "agent.run()\n",
    "\n",
    "# The agent provides global statistics on its execution\n",
    "agent.close()"
   ]
  },
  {
   "cell_type": "markdown",
   "metadata": {},
   "source": [
    "## Our first custom Source"
   ],
   "execution_count": null,
   "outputs": []
  },
  {
   "cell_type": "code",
   "execution_count": null,
   "metadata": {},
   "outputs": [],
   "source": [
    "from pyngsi.source import Source\n",
    "\n",
    "class CustomSource(Source): \n",
    "    def __init__(self, rooms): \n",
    "        self.rooms = rooms \n",
    "        \n",
    "    def __iter__(self): \n",
    "        for record in self.rooms: \n",
    "            yield Row(\"custom\", record)"
   ]
  },
  {
   "cell_type": "markdown",
   "metadata": {},
   "source": [
    "Let's use it"
   ],
   "execution_count": null,
   "outputs": []
  },
  {
   "cell_type": "code",
   "execution_count": null,
   "metadata": {},
   "outputs": [],
   "source": [
    "# our CSV lines\n",
    "rooms = [\"Room1;23;720\", \"Room2;21;711\"]\n",
    "\n",
    "# init the source\n",
    "src = CustomSource(rooms)\n",
    "\n",
    "# consume the source and print rows\n",
    "for row in src:\n",
    "    print(row)"
   ]
  },
  {
   "cell_type": "markdown",
   "metadata": {},
   "source": [
    "Your custom Source will rely on the same principles.<br>\n",
    "The only difference is that you will have to focus on how to acquire your own data."
   ],
   "execution_count": null,
   "outputs": []
  }
 ],
 "metadata": {
  "kernelspec": {
   "display_name": "Python 3.8.2 64-bit ('venv': venv)",
   "language": "python",
   "name": "python38264bitvenvvenva41776b7b4c24b1ea249e6dd67506952"
  },
  "language_info": {
   "codemirror_mode": {
    "name": "ipython",
    "version": 3
   },
   "file_extension": ".py",
   "mimetype": "text/x-python",
   "name": "python",
   "nbconvert_exporter": "python",
   "pygments_lexer": "ipython3",
   "version": "3.8.2-final"
  }
 },
 "nbformat": 4,
 "nbformat_minor": 4
}