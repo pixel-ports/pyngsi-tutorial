{
 "cells": [
  {
   "cell_type": "markdown",
   "metadata": {},
   "source": [
    "# Chapter 4 : Datasources"
   ]
  },
  {
   "cell_type": "markdown",
   "metadata": {},
   "source": [
    "Dealing with datasources is the most complex part because datasources are versatile :\n",
    "- Different content formats : plain text, json, ...\n",
    "- Different protocols UDP, FTP, HTTP, ...\n",
    "- Request (request the datasource aka client mode) or Being requested (server mode)."
   ]
  },
  {
   "cell_type": "markdown",
   "metadata": {},
   "source": [
    "## Dive into the Source class"
   ]
  },
  {
   "cell_type": "markdown",
   "metadata": {},
   "source": [
    "The Source class aims at providing a common interface for all datasources.<p>\n",
    "As datasources have very little in common, the only assumption made by the framework is :<br>\n",
    "\n",
    "**Every datasource is iterable**<br>\n",
    "\n",
    "In practical terms, a Source uses a Python generator.<br>\n",
    "The *pyngsi.source* package offers many generic sources, and it's easy to create your custom Source by extending the Source class.<p>\n",
    "\n",
    "A Source iterates over rows.<br>\n",
    "Rows are composed of two parts :\n",
    "- the record : the incoming content itself (the payload)\n",
    "- the content provider : just a string that reminds the origin of the row\n",
    "\n",
    "Theses 2 points - the iterable sources and the row definition - are the basement of the framework.<br>\n",
    "This common interface will allow us to create agents that will use our Sources, as we have seen in the previous chapter."
   ]
  },
  {
   "cell_type": "markdown",
   "metadata": {},
   "source": [
    "### The Row"
   ]
  },
  {
   "cell_type": "code",
   "execution_count": null,
   "metadata": {},
   "outputs": [],
   "source": [
    "from pyngsi.source import Row\n",
    "\n",
    "help(Row.__init__)"
   ]
  },
  {
   "cell_type": "markdown",
   "metadata": {},
   "source": [
    "### Sources provided by the framework"
   ]
  },
  {
   "cell_type": "code",
   "execution_count": null,
   "metadata": {},
   "outputs": [],
   "source": [
    "import pyngsi.source\n",
    "\n",
    "print([x for x in dir(pyngsi.source) if x.startswith(\"Source\")])"
   ]
  },
  {
   "cell_type": "markdown",
   "metadata": {},
   "source": [
    "- Source is the Source base class\n",
    "\n",
    "- SourceSampleOrion is the Source dedicated to the tutorial\n",
    "\n",
    "- SourceStdin takes incoming data from standard input\n",
    "\n",
    "- SourceFile takes incoming data from a local file (supports zip & gzip compression)\n",
    "\n",
    "- SourceJson takes JSON incoming data, from stdin or from a file (supports zip & gzip compression).<br>\n",
    "If the incoming JSON is a JSON Array then SourceJson iterates over the array<br>\n",
    "The constructor `path` argument points the array to be iterated in the JSON structure (i.e. path = \\[\"cars\",\"models\"])\n",
    "\n",
    "- SourceIter takes incoming data from any Python Sequence argument (list, tuple, ...) provided to the constuctor\n",
    "\n",
    "- SourceSingle takes incoming data from the argument provided to the constuctor\n"
   ]
  },
  {
   "cell_type": "markdown",
   "metadata": {},
   "source": [
    "## Example 1 : Process a local file"
   ]
  },
  {
   "cell_type": "markdown",
   "metadata": {},
   "source": [
    "Here the Source takes incoming data from a compressed JSON file.<br>\n",
    "\n",
    "\n",
    "As the JSON is an array, the Source iterates over each row of the JSON Array.<br>\n",
    "The provider is filled with the name of the file."
   ]
  },
  {
   "cell_type": "code",
   "execution_count": null,
   "metadata": {},
   "outputs": [],
   "source": [
    "from pyngsi.source import Source\n",
    "\n",
    "# returns a SourceJson guessed from the extension\n",
    "src = Source.create_source_from_file(\"files/colors.json.gz\")\n",
    "\n",
    "for row in src:\n",
    "    print(row)"
   ]
  },
  {
   "cell_type": "markdown",
   "metadata": {},
   "source": [
    "## Example 2 : Process FTP files\n",
    "\n",
    "*This example runs only on a local Jupyter notebook (needs network access)*"
   ]
  },
  {
   "cell_type": "markdown",
   "metadata": {},
   "source": [
    "A quite complex example made easy.<p>\n",
    "\n",
    "The FTP server used in the example serves RFC files.<br>\n",
    "Each RFC comes with a brief description in a JSON file.<br>\n",
    "Have a look at rfc959.json in the *files/* folder.<p>\n",
    "\n",
    "We will output NGSI entities to Orion with a great datamodel exposing the title, the date of publication and the number of pages.<br>\n",
    "We will focus only on RFC958 and RFC2228 speaking about the FTP protocol."
   ]
  },
  {
   "cell_type": "markdown",
   "metadata": {},
   "source": [
    "### Define our datamodel"
   ]
  },
  {
   "cell_type": "code",
   "execution_count": null,
   "metadata": {},
   "outputs": [],
   "source": [
    "from datetime import datetime\n",
    "\n",
    "from pyngsi.source import Row\n",
    "from pyngsi.ngsi import DataModel\n",
    "\n",
    "def build_entity(row: Row) -> DataModel:\n",
    "    rfc = row.record\n",
    "    m = DataModel(id=rfc[\"doc_id\"], type=\"RFC\")\n",
    "    m.add(\"dataProvider\", row.provider)\n",
    "    m.add(\"title\", rfc[\"title\"])\n",
    "    m.add(\"publicationDate\", datetime.strptime(rfc[\"pub_date\"], \"%B %Y\"))\n",
    "    m.add(\"pageCount\", int(rfc[\"page_count\"]))\n",
    "    return m"
   ]
  },
  {
   "cell_type": "markdown",
   "metadata": {},
   "source": [
    "### Let's use our datamodel in our Agent"
   ]
  },
  {
   "cell_type": "code",
   "execution_count": null,
   "metadata": {},
   "outputs": [],
   "source": [
    "from pyngsi.source import SourceFtp\n",
    "from pyngsi.sink import SinkStdout\n",
    "from pyngsi.agent import NgsiAgent\n",
    "\n",
    "# help(SourceFtp) for more info\n",
    "src = SourceFtp(\"ftp.ps.pl\", paths=[\n",
    "    \"/pub/rfc\"], f_match=lambda x: x.endswith(\"rfc958.json\") or x.endswith(\"rfc2228.json\"))\n",
    "\n",
    "# if you have an Orion server available, just replace SinkStdout() with SinkOrion()\n",
    "sink = SinkStdout()\n",
    "\n",
    "# the source has auto-detected that we deal with JSON files, hence has parsed json for us\n",
    "agent = NgsiAgent.create_agent(src, sink, process=build_entity)\n",
    "agent.run()\n",
    "\n",
    "# resources are freed\n",
    "# here the agent removes the temporary directory (where files were downloaded).\n",
    "agent.close()\n",
    "\n",
    "# get statistics\n",
    "print(agent.stats)\n",
    "\n"
   ]
  },
  {
   "cell_type": "markdown",
   "metadata": {},
   "source": [
    "## Example 3 : Expose a REST API (Server mode)\n",
    "\n",
    "*In this example (as we run a server) some code cells are not executable.*<br>\n",
    "*You can reproduce it locally on your computer.*"
   ]
  },
  {
   "cell_type": "markdown",
   "metadata": {},
   "source": [
    "This time the Agent doesn't get incoming data from the datasource.<p>\n",
    "\n",
    "In server mode, the Agent is requested by the datasource.<br>\n",
    "From the datasource point of view we could also call that push mode.<p>\n",
    "\n",
    "In this example our temperature/pressure sensors store measures locally and a JSON file is sent periodically to the Agent."
   ]
  },
  {
   "cell_type": "markdown",
   "metadata": {},
   "source": [
    "### Define your datamodel"
   ]
  },
  {
   "cell_type": "code",
   "execution_count": null,
   "metadata": {},
   "outputs": [],
   "source": [
    "from pyngsi.source import Row\n",
    "from pyngsi.ngsi import DataModel\n",
    "\n",
    "def build_entity(row: Row) -> DataModel:\n",
    "    r = row.record\n",
    "    m = DataModel(id=r[\"room\"], type=\"Room\")\n",
    "    m.add(\"temperature\", r[\"temperature\"])\n",
    "    m.add(\"pressure\", r[\"pressure\"])\n",
    "    return m"
   ]
  },
  {
   "cell_type": "markdown",
   "metadata": {},
   "source": [
    "### Let's use our datamodel in our Agent"
   ]
  },
  {
   "cell_type": "markdown",
   "metadata": {},
   "source": [
    "```python\n",
    "from pyngsi.server import ServerHttpUpload\n",
    "from pyngsi.sink import SinkOrion\n",
    "from pyngsi.agent import NgsiAgent\n",
    "\n",
    "# help(ServerHttpUpload) for more info\n",
    "src = ServerHttpUpload()\n",
    "\n",
    "# init ths sink\n",
    "sink = SinkOrion()\n",
    "\n",
    "# the agent processes JSON content received from the client\n",
    "agent = NgsiAgent.create_agent(src, sink, process=build_entity)\n",
    "\n",
    "# run the server\n",
    "agent.run()\n",
    "```"
   ]
  },
  {
   "cell_type": "markdown",
   "metadata": {},
   "source": [
    "### Send JSON measures to the Agent"
   ]
  },
  {
   "cell_type": "markdown",
   "metadata": {},
   "source": [
    "```bash\n",
    "$ curl -X POST -H \"Content-Type: application/json\" -d '{\"room\":\"Room1\",\"temperature\":23.0,\"pressure\":710}' http://127.0.0.1:8880/upload\n",
    "```"
   ]
  },
  {
   "cell_type": "markdown",
   "metadata": {},
   "source": [
    "### Additional endpoints\n",
    "\n",
    "- **/version**\n",
    "\n",
    "```\n",
    "{\n",
    "  \"name\": \"pyngsi\",\n",
    "  \"version\": \"1.2.6\"\n",
    "}\n",
    "```\n",
    "\n",
    "- **/status** : get status and consolidated statistics\n",
    "\n",
    "```\n",
    "{\n",
    "  \"ngsi_stats\": {\n",
    "    \"error\": 0,\n",
    "    \"filtered\": 0,\n",
    "    \"input\": 6,\n",
    "    \"output\": 6,\n",
    "    \"processed\": 6\n",
    "  },\n",
    "  \"server_status\": {\n",
    "    \"calls\": 6,\n",
    "    \"calls_error\": 0,\n",
    "    \"calls_success\": 6,\n",
    "    \"lastcalltime\": \"Fri, 27 Mar 2020 14:17:12 GMT\",\n",
    "    \"starttime\": \"Fri, 27 Mar 2020 14:17:03 GMT\"\n",
    "  }\n",
    "}\n",
    "\n",
    "```"
   ]
  },
  {
   "cell_type": "markdown",
   "metadata": {},
   "source": [
    "## Our first custom Source"
   ]
  },
  {
   "cell_type": "markdown",
   "metadata": {},
   "source": [
    "A source is essentially an iterable.<br>\n",
    "In practice it is based on a Python generator."
   ]
  },
  {
   "cell_type": "code",
   "execution_count": null,
   "metadata": {},
   "outputs": [],
   "source": [
    "from pyngsi.source import Source, Row\n",
    "\n",
    "class CustomSource(Source): \n",
    "    def __init__(self, rooms): \n",
    "        self.rooms = rooms \n",
    "        \n",
    "    def __iter__(self): \n",
    "        for record in self.rooms: \n",
    "            yield Row(\"custom\", record)"
   ]
  },
  {
   "cell_type": "markdown",
   "metadata": {},
   "source": [
    "Let's use it"
   ]
  },
  {
   "cell_type": "code",
   "execution_count": null,
   "metadata": {},
   "outputs": [],
   "source": [
    "# our CSV lines\n",
    "rooms = [\"Room1;23;720\", \"Room2;21;711\"]\n",
    "\n",
    "# init the source\n",
    "src = CustomSource(rooms)\n",
    "\n",
    "# consume the source and print rows\n",
    "for row in src:\n",
    "    print(row)"
   ]
  },
  {
   "cell_type": "markdown",
   "metadata": {},
   "source": [
    "A Source offer some facilities do deal with generators."
   ]
  },
  {
   "cell_type": "code",
   "execution_count": null,
   "metadata": {},
   "outputs": [],
   "source": [
    "# extend our rooms\n",
    "rooms *= 3\n",
    "\n",
    "print(rooms)\n",
    "for row in src.limit(3):\n",
    "    print(row)"
   ]
  },
  {
   "cell_type": "code",
   "execution_count": null,
   "metadata": {},
   "outputs": [],
   "source": []
  }
 ],
 "metadata": {
  "kernelspec": {
   "display_name": "Python 3.8.2 64-bit ('venv': venv)",
   "language": "python",
   "name": "python38264bitvenvvenva41776b7b4c24b1ea249e6dd67506952"
  },
  "language_info": {
   "codemirror_mode": {
    "name": "ipython",
    "version": 3
   },
   "file_extension": ".py",
   "mimetype": "text/x-python",
   "name": "python",
   "nbconvert_exporter": "python",
   "pygments_lexer": "ipython3",
   "version": "3.8.2-final"
  }
 },
 "nbformat": 4,
 "nbformat_minor": 4
}