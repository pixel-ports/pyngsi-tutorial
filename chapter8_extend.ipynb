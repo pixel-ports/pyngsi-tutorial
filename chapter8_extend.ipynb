{
 "cells": [
  {
   "cell_type": "markdown",
   "metadata": {},
   "source": [
    "# Chapter 8 : Extend the framework"
   ]
  },
  {
   "cell_type": "markdown",
   "metadata": {},
   "source": [
    "One can add Sources and Sinks to the framework.<br>\n",
    "Just extend the corresponding classes.<p>\n",
    "\n",
    "\n",
    "You can add a Source that is dedicated to your custom data and your custom agent.<p>\n",
    "\n",
    "`SourceMicrosoftExcel` is given as an example.<br>\n",
    "Let's say you've just created your own Source capable of parsing xlsx files and yielding CSV-like rows from it."
   ]
  },
  {
   "cell_type": "code",
   "execution_count": null,
   "metadata": {
    "tags": []
   },
   "outputs": [],
   "source": [
    "from pyngsi.sources.more_sources import SourceMicrosoftExcel\n",
    "\n",
    "src = SourceMicrosoftExcel(\"files/room.xlsx\")\n",
    "\n",
    "for row in src:\n",
    "    print(row)"
   ]
  },
  {
   "cell_type": "markdown",
   "metadata": {},
   "source": []
  },
  {
   "cell_type": "markdown",
   "metadata": {},
   "source": [
    "Now you'd like to use it in all situations, especially if the xlsx files you're interested in are remotely.<br>\n",
    "You'll have to register the source."
   ]
  },
  {
   "cell_type": "code",
   "execution_count": null,
   "metadata": {
    "tags": []
   },
   "outputs": [],
   "source": [
    "from pyngsi.sources.more_sources import SourceMicrosoftExcel\n",
    "\n",
    "# global registering\n",
    "Source.register(SourceMicrosoftExcel)\n",
    "\n",
    "# for the purpose of the tutorial the file room.xlsx is stored locally\n",
    "src = Source.from_glob(\"files/*.xlsx\")\n",
    "\n",
    "for row in src:\n",
    "    print(row)\n",
    "\n",
    "Source.unregister()"
   ]
  },
  {
   "cell_type": "markdown",
   "metadata": {},
   "source": [
    "As an alternative you might want to register only the xlsx extension, allowing to handle multiple formats at the same time."
   ]
  },
  {
   "cell_type": "code",
   "execution_count": null,
   "metadata": {
    "tags": []
   },
   "outputs": [],
   "source": [
    "from pyngsi.sources.source import Source\n",
    "from pyngsi.sources.more_sources import SourceMicrosoftExcel\n",
    "\n",
    "# register extension\n",
    "Source.register_extension(\"xlsx\", SourceMicrosoftExcel)\n",
    "\n",
    "# for the purpose of the tutorial the files room.xlsx and room.csv are stored locally\n",
    "src = Source.from_glob(\"files/room.*\")\n",
    "\n",
    "for row in src:\n",
    "    print(row)"
   ]
  },
  {
   "cell_type": "markdown",
   "metadata": {},
   "source": [
    "If you wish to add a generic Source that could be reused in other agents, please consider contributing to the project."
   ]
  }
 ],
 "metadata": {
  "kernelspec": {
   "display_name": "Python 3.8.2 64-bit ('venv': venv)",
   "language": "python",
   "name": "python38264bitvenvvenva41776b7b4c24b1ea249e6dd67506952"
  },
  "language_info": {
   "codemirror_mode": {
    "name": "ipython",
    "version": 3
   },
   "file_extension": ".py",
   "mimetype": "text/x-python",
   "name": "python",
   "nbconvert_exporter": "python",
   "pygments_lexer": "ipython3",
   "version": "3.8.2-final"
  }
 },
 "nbformat": 4,
 "nbformat_minor": 4
}